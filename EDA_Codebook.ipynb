{
 "cells": [
  {
   "cell_type": "code",
   "execution_count": 6,
   "id": "49eaeba2",
   "metadata": {},
   "outputs": [
    {
     "name": "stdout",
     "output_type": "stream",
     "text": [
      "Collecting xlrd\n",
      "  Downloading xlrd-2.0.1-py2.py3-none-any.whl (96 kB)\n",
      "\u001b[2K     \u001b[90m━━━━━━━━━━━━━━━━━━━━━━━━━━━━━━━━━━━━━━━━\u001b[0m \u001b[32m96.5/96.5 kB\u001b[0m \u001b[31m1.0 MB/s\u001b[0m eta \u001b[36m0:00:00\u001b[0ma \u001b[36m0:00:01\u001b[0mm\n",
      "\u001b[?25hInstalling collected packages: xlrd\n",
      "Successfully installed xlrd-2.0.1\n",
      "Note: you may need to restart the kernel to use updated packages.\n"
     ]
    }
   ],
   "source": [
    "pip install xlrd"
   ]
  },
  {
   "cell_type": "markdown",
   "id": "2dd23f3a",
   "metadata": {},
   "source": [
    "### Importing Dataset"
   ]
  },
  {
   "cell_type": "code",
   "execution_count": 76,
   "id": "9a9bf01a",
   "metadata": {},
   "outputs": [
    {
     "data": {
      "text/html": [
       "<div>\n",
       "<style scoped>\n",
       "    .dataframe tbody tr th:only-of-type {\n",
       "        vertical-align: middle;\n",
       "    }\n",
       "\n",
       "    .dataframe tbody tr th {\n",
       "        vertical-align: top;\n",
       "    }\n",
       "\n",
       "    .dataframe thead th {\n",
       "        text-align: right;\n",
       "    }\n",
       "</style>\n",
       "<table border=\"1\" class=\"dataframe\">\n",
       "  <thead>\n",
       "    <tr style=\"text-align: right;\">\n",
       "      <th></th>\n",
       "      <th>id</th>\n",
       "      <th>g14_city</th>\n",
       "      <th>g15_zipcode</th>\n",
       "      <th>g16_county</th>\n",
       "      <th>g17_region</th>\n",
       "      <th>g18_community</th>\n",
       "      <th>g20_raceethnicity1</th>\n",
       "      <th>g20_raceethnicity2</th>\n",
       "      <th>g20_raceethnicity3</th>\n",
       "      <th>g20_raceethnicity4</th>\n",
       "      <th>...</th>\n",
       "      <th>p_agerange</th>\n",
       "      <th>p_status</th>\n",
       "      <th>p41_gender1</th>\n",
       "      <th>p41_gender2</th>\n",
       "      <th>p41_gender3</th>\n",
       "      <th>p41_gender4</th>\n",
       "      <th>p41_gender5</th>\n",
       "      <th>p46_caregiving1</th>\n",
       "      <th>p46_caregiving2</th>\n",
       "      <th>p46_caregiving3</th>\n",
       "    </tr>\n",
       "  </thead>\n",
       "  <tbody>\n",
       "    <tr>\n",
       "      <th>0</th>\n",
       "      <td>N3R8BXQE4K</td>\n",
       "      <td>BUFFALO</td>\n",
       "      <td>14201.0</td>\n",
       "      <td>Erie County</td>\n",
       "      <td>Western New York</td>\n",
       "      <td>Urban</td>\n",
       "      <td>Asian or Pacific Islander</td>\n",
       "      <td>White</td>\n",
       "      <td>NaN</td>\n",
       "      <td>NaN</td>\n",
       "      <td>...</td>\n",
       "      <td>NaN</td>\n",
       "      <td>NaN</td>\n",
       "      <td>NaN</td>\n",
       "      <td>NaN</td>\n",
       "      <td>NaN</td>\n",
       "      <td>NaN</td>\n",
       "      <td>NaN</td>\n",
       "      <td>NaN</td>\n",
       "      <td>NaN</td>\n",
       "      <td>NaN</td>\n",
       "    </tr>\n",
       "    <tr>\n",
       "      <th>1</th>\n",
       "      <td>E555HATF05</td>\n",
       "      <td>NaN</td>\n",
       "      <td>NaN</td>\n",
       "      <td>NaN</td>\n",
       "      <td>NaN</td>\n",
       "      <td>NaN</td>\n",
       "      <td>NaN</td>\n",
       "      <td>NaN</td>\n",
       "      <td>NaN</td>\n",
       "      <td>NaN</td>\n",
       "      <td>...</td>\n",
       "      <td>25-34</td>\n",
       "      <td>Withdrawn</td>\n",
       "      <td>gender_oth</td>\n",
       "      <td>twospirit</td>\n",
       "      <td>woman</td>\n",
       "      <td>NaN</td>\n",
       "      <td>NaN</td>\n",
       "      <td>no_caregiving</td>\n",
       "      <td>NaN</td>\n",
       "      <td>NaN</td>\n",
       "    </tr>\n",
       "    <tr>\n",
       "      <th>2</th>\n",
       "      <td>0LTH6QJQH8</td>\n",
       "      <td>New York City</td>\n",
       "      <td>10040.0</td>\n",
       "      <td>New York County (Manhattan)</td>\n",
       "      <td>New York City</td>\n",
       "      <td>Urban</td>\n",
       "      <td>White</td>\n",
       "      <td>NaN</td>\n",
       "      <td>NaN</td>\n",
       "      <td>NaN</td>\n",
       "      <td>...</td>\n",
       "      <td>NaN</td>\n",
       "      <td>NaN</td>\n",
       "      <td>NaN</td>\n",
       "      <td>NaN</td>\n",
       "      <td>NaN</td>\n",
       "      <td>NaN</td>\n",
       "      <td>NaN</td>\n",
       "      <td>NaN</td>\n",
       "      <td>NaN</td>\n",
       "      <td>NaN</td>\n",
       "    </tr>\n",
       "    <tr>\n",
       "      <th>3</th>\n",
       "      <td>R3S4V21D40</td>\n",
       "      <td>Manhattan</td>\n",
       "      <td>10031.0</td>\n",
       "      <td>New York County (Manhattan)</td>\n",
       "      <td>New York City</td>\n",
       "      <td>Urban</td>\n",
       "      <td>Black or African American</td>\n",
       "      <td>NaN</td>\n",
       "      <td>NaN</td>\n",
       "      <td>NaN</td>\n",
       "      <td>...</td>\n",
       "      <td>NaN</td>\n",
       "      <td>NaN</td>\n",
       "      <td>NaN</td>\n",
       "      <td>NaN</td>\n",
       "      <td>NaN</td>\n",
       "      <td>NaN</td>\n",
       "      <td>NaN</td>\n",
       "      <td>NaN</td>\n",
       "      <td>NaN</td>\n",
       "      <td>NaN</td>\n",
       "    </tr>\n",
       "    <tr>\n",
       "      <th>4</th>\n",
       "      <td>BZEFVJAYBT</td>\n",
       "      <td>Brooklyn</td>\n",
       "      <td>11238.0</td>\n",
       "      <td>Kings County (Brooklyn)</td>\n",
       "      <td>New York City</td>\n",
       "      <td>Urban</td>\n",
       "      <td>Asian or Pacific Islander</td>\n",
       "      <td>Arab or Middle Eastern</td>\n",
       "      <td>NaN</td>\n",
       "      <td>NaN</td>\n",
       "      <td>...</td>\n",
       "      <td>NaN</td>\n",
       "      <td>NaN</td>\n",
       "      <td>NaN</td>\n",
       "      <td>NaN</td>\n",
       "      <td>NaN</td>\n",
       "      <td>NaN</td>\n",
       "      <td>NaN</td>\n",
       "      <td>NaN</td>\n",
       "      <td>NaN</td>\n",
       "      <td>NaN</td>\n",
       "    </tr>\n",
       "  </tbody>\n",
       "</table>\n",
       "<p>5 rows × 180 columns</p>\n",
       "</div>"
      ],
      "text/plain": [
       "           id       g14_city  g15_zipcode                      g16_county  \\\n",
       "0  N3R8BXQE4K        BUFFALO      14201.0                  Erie County      \n",
       "1  E555HATF05            NaN          NaN                             NaN   \n",
       "2  0LTH6QJQH8  New York City      10040.0  New York County (Manhattan)      \n",
       "3  R3S4V21D40      Manhattan      10031.0  New York County (Manhattan)      \n",
       "4  BZEFVJAYBT       Brooklyn      11238.0       Kings County (Brooklyn)     \n",
       "\n",
       "         g17_region g18_community          g20_raceethnicity1  \\\n",
       "0  Western New York       Urban    Asian or Pacific Islander    \n",
       "1               NaN           NaN                         NaN   \n",
       "2     New York City       Urban                       White     \n",
       "3     New York City       Urban    Black or African American    \n",
       "4     New York City       Urban    Asian or Pacific Islander    \n",
       "\n",
       "         g20_raceethnicity2 g20_raceethnicity3 g20_raceethnicity4  ...  \\\n",
       "0                   White                  NaN                NaN  ...   \n",
       "1                       NaN                NaN                NaN  ...   \n",
       "2                       NaN                NaN                NaN  ...   \n",
       "3                       NaN                NaN                NaN  ...   \n",
       "4   Arab or Middle Eastern                 NaN                NaN  ...   \n",
       "\n",
       "  p_agerange   p_status p41_gender1 p41_gender2 p41_gender3 p41_gender4  \\\n",
       "0        NaN        NaN         NaN         NaN         NaN         NaN   \n",
       "1      25-34  Withdrawn  gender_oth   twospirit       woman         NaN   \n",
       "2        NaN        NaN         NaN         NaN         NaN         NaN   \n",
       "3        NaN        NaN         NaN         NaN         NaN         NaN   \n",
       "4        NaN        NaN         NaN         NaN         NaN         NaN   \n",
       "\n",
       "  p41_gender5 p46_caregiving1 p46_caregiving2 p46_caregiving3  \n",
       "0         NaN             NaN             NaN             NaN  \n",
       "1         NaN   no_caregiving             NaN             NaN  \n",
       "2         NaN             NaN             NaN             NaN  \n",
       "3         NaN             NaN             NaN             NaN  \n",
       "4         NaN             NaN             NaN             NaN  \n",
       "\n",
       "[5 rows x 180 columns]"
      ]
     },
     "execution_count": 76,
     "metadata": {},
     "output_type": "execute_result"
    }
   ],
   "source": [
    "import pandas as pd\n",
    "data= pd.read_excel('./CRNY_Dataset.xlsx')\n",
    "data.head()"
   ]
  },
  {
   "cell_type": "markdown",
   "id": "b0bbf96f",
   "metadata": {},
   "source": [
    "### Removing unused columns"
   ]
  },
  {
   "cell_type": "code",
   "execution_count": 77,
   "id": "25db7395",
   "metadata": {},
   "outputs": [],
   "source": [
    "data = data.drop([\n",
    "    'g14_city', 'g15_zipcode', 'g21_immigrant', 'g24_transgender', 'g26_deafdisabled', \n",
    "    'g27_providecare1', 'g27_providecare2', 'g27_providecare3', 'g27_providecare4', 'g27_providecare5', \n",
    "    'g28_criminallegalsystem', 'g28b_criminal_findemploy', 'p3_impacts', 'p4_barriers', \n",
    "    'p9_2021hhincome', 'p10b_wagespaid1', 'p10b_wagespaid2', 'p10b_wagespaid3', 'p10b_wagespaid4', \n",
    "    'p11_otherincome', 'p17_stablehousing', 'p19_socialrelationships', 'p20_purposefullife', \n",
    "    'p21_agency', 'p23_publicvalueswork', 'p24_articulating', 'p26_awareofgi', \n",
    "    'p27_causes1', 'p27_causes2', 'p27_causes3', 'p27_causes4', 'p27_causes5', \n",
    "    'p27_causes6', 'p27_causes7', 'p27_causes8', 'p27_causes9', 'p27_causes10', \n",
    "    'p28_policygroup', 'p29_emergencyassist', 'p29b_typesofassistance1', 'p29b_typesofassistance2', \n",
    "    'p29b_typesofassistance3', 'p29b_typesofassistance4', 'p29b_typesofassistance5', \n",
    "    'p29b_typesofassistance6', 'p33_zipcode', 'p39_immigrant', 'p42_transgender', \n",
    "    'p43_lgbtqiap', 'p44_deafdisabled', 'p45_criminallegal', 'p45b_criminalemploy', 'p_status', \n",
    "    'p46_caregiving1', 'p46_caregiving2', 'p46_caregiving3'\n",
    "], axis=1)\n"
   ]
  },
  {
   "cell_type": "code",
   "execution_count": 78,
   "id": "b121b2ce",
   "metadata": {},
   "outputs": [
    {
     "data": {
      "text/html": [
       "<div>\n",
       "<style scoped>\n",
       "    .dataframe tbody tr th:only-of-type {\n",
       "        vertical-align: middle;\n",
       "    }\n",
       "\n",
       "    .dataframe tbody tr th {\n",
       "        vertical-align: top;\n",
       "    }\n",
       "\n",
       "    .dataframe thead th {\n",
       "        text-align: right;\n",
       "    }\n",
       "</style>\n",
       "<table border=\"1\" class=\"dataframe\">\n",
       "  <thead>\n",
       "    <tr style=\"text-align: right;\">\n",
       "      <th></th>\n",
       "      <th>id</th>\n",
       "      <th>g16_county</th>\n",
       "      <th>g17_region</th>\n",
       "      <th>g18_community</th>\n",
       "      <th>g20_raceethnicity1</th>\n",
       "      <th>g20_raceethnicity2</th>\n",
       "      <th>g20_raceethnicity3</th>\n",
       "      <th>g20_raceethnicity4</th>\n",
       "      <th>g20_raceethnicity5</th>\n",
       "      <th>g20_raceethnicity6</th>\n",
       "      <th>...</th>\n",
       "      <th>p38_race7</th>\n",
       "      <th>p38_race8</th>\n",
       "      <th>p40_language</th>\n",
       "      <th>p_age</th>\n",
       "      <th>p_agerange</th>\n",
       "      <th>p41_gender1</th>\n",
       "      <th>p41_gender2</th>\n",
       "      <th>p41_gender3</th>\n",
       "      <th>p41_gender4</th>\n",
       "      <th>p41_gender5</th>\n",
       "    </tr>\n",
       "  </thead>\n",
       "  <tbody>\n",
       "    <tr>\n",
       "      <th>0</th>\n",
       "      <td>N3R8BXQE4K</td>\n",
       "      <td>Erie County</td>\n",
       "      <td>Western New York</td>\n",
       "      <td>Urban</td>\n",
       "      <td>Asian or Pacific Islander</td>\n",
       "      <td>White</td>\n",
       "      <td>NaN</td>\n",
       "      <td>NaN</td>\n",
       "      <td>NaN</td>\n",
       "      <td>NaN</td>\n",
       "      <td>...</td>\n",
       "      <td>NaN</td>\n",
       "      <td>NaN</td>\n",
       "      <td>NaN</td>\n",
       "      <td>NaN</td>\n",
       "      <td>NaN</td>\n",
       "      <td>NaN</td>\n",
       "      <td>NaN</td>\n",
       "      <td>NaN</td>\n",
       "      <td>NaN</td>\n",
       "      <td>NaN</td>\n",
       "    </tr>\n",
       "    <tr>\n",
       "      <th>1</th>\n",
       "      <td>E555HATF05</td>\n",
       "      <td>NaN</td>\n",
       "      <td>NaN</td>\n",
       "      <td>NaN</td>\n",
       "      <td>NaN</td>\n",
       "      <td>NaN</td>\n",
       "      <td>NaN</td>\n",
       "      <td>NaN</td>\n",
       "      <td>NaN</td>\n",
       "      <td>NaN</td>\n",
       "      <td>...</td>\n",
       "      <td>NaN</td>\n",
       "      <td>NaN</td>\n",
       "      <td>English</td>\n",
       "      <td>28.0</td>\n",
       "      <td>25-34</td>\n",
       "      <td>gender_oth</td>\n",
       "      <td>twospirit</td>\n",
       "      <td>woman</td>\n",
       "      <td>NaN</td>\n",
       "      <td>NaN</td>\n",
       "    </tr>\n",
       "    <tr>\n",
       "      <th>2</th>\n",
       "      <td>0LTH6QJQH8</td>\n",
       "      <td>New York County (Manhattan)</td>\n",
       "      <td>New York City</td>\n",
       "      <td>Urban</td>\n",
       "      <td>White</td>\n",
       "      <td>NaN</td>\n",
       "      <td>NaN</td>\n",
       "      <td>NaN</td>\n",
       "      <td>NaN</td>\n",
       "      <td>NaN</td>\n",
       "      <td>...</td>\n",
       "      <td>NaN</td>\n",
       "      <td>NaN</td>\n",
       "      <td>NaN</td>\n",
       "      <td>NaN</td>\n",
       "      <td>NaN</td>\n",
       "      <td>NaN</td>\n",
       "      <td>NaN</td>\n",
       "      <td>NaN</td>\n",
       "      <td>NaN</td>\n",
       "      <td>NaN</td>\n",
       "    </tr>\n",
       "    <tr>\n",
       "      <th>3</th>\n",
       "      <td>R3S4V21D40</td>\n",
       "      <td>New York County (Manhattan)</td>\n",
       "      <td>New York City</td>\n",
       "      <td>Urban</td>\n",
       "      <td>Black or African American</td>\n",
       "      <td>NaN</td>\n",
       "      <td>NaN</td>\n",
       "      <td>NaN</td>\n",
       "      <td>NaN</td>\n",
       "      <td>NaN</td>\n",
       "      <td>...</td>\n",
       "      <td>NaN</td>\n",
       "      <td>NaN</td>\n",
       "      <td>NaN</td>\n",
       "      <td>NaN</td>\n",
       "      <td>NaN</td>\n",
       "      <td>NaN</td>\n",
       "      <td>NaN</td>\n",
       "      <td>NaN</td>\n",
       "      <td>NaN</td>\n",
       "      <td>NaN</td>\n",
       "    </tr>\n",
       "    <tr>\n",
       "      <th>4</th>\n",
       "      <td>BZEFVJAYBT</td>\n",
       "      <td>Kings County (Brooklyn)</td>\n",
       "      <td>New York City</td>\n",
       "      <td>Urban</td>\n",
       "      <td>Asian or Pacific Islander</td>\n",
       "      <td>Arab or Middle Eastern</td>\n",
       "      <td>NaN</td>\n",
       "      <td>NaN</td>\n",
       "      <td>NaN</td>\n",
       "      <td>NaN</td>\n",
       "      <td>...</td>\n",
       "      <td>NaN</td>\n",
       "      <td>NaN</td>\n",
       "      <td>NaN</td>\n",
       "      <td>NaN</td>\n",
       "      <td>NaN</td>\n",
       "      <td>NaN</td>\n",
       "      <td>NaN</td>\n",
       "      <td>NaN</td>\n",
       "      <td>NaN</td>\n",
       "      <td>NaN</td>\n",
       "    </tr>\n",
       "  </tbody>\n",
       "</table>\n",
       "<p>5 rows × 124 columns</p>\n",
       "</div>"
      ],
      "text/plain": [
       "           id                      g16_county        g17_region g18_community  \\\n",
       "0  N3R8BXQE4K                  Erie County     Western New York       Urban     \n",
       "1  E555HATF05                             NaN               NaN           NaN   \n",
       "2  0LTH6QJQH8  New York County (Manhattan)        New York City       Urban     \n",
       "3  R3S4V21D40  New York County (Manhattan)        New York City       Urban     \n",
       "4  BZEFVJAYBT       Kings County (Brooklyn)       New York City       Urban     \n",
       "\n",
       "           g20_raceethnicity1        g20_raceethnicity2 g20_raceethnicity3  \\\n",
       "0  Asian or Pacific Islander                    White                  NaN   \n",
       "1                         NaN                       NaN                NaN   \n",
       "2                     White                         NaN                NaN   \n",
       "3  Black or African American                        NaN                NaN   \n",
       "4  Asian or Pacific Islander    Arab or Middle Eastern                 NaN   \n",
       "\n",
       "  g20_raceethnicity4 g20_raceethnicity5 g20_raceethnicity6  ... p38_race7  \\\n",
       "0                NaN                NaN                NaN  ...       NaN   \n",
       "1                NaN                NaN                NaN  ...       NaN   \n",
       "2                NaN                NaN                NaN  ...       NaN   \n",
       "3                NaN                NaN                NaN  ...       NaN   \n",
       "4                NaN                NaN                NaN  ...       NaN   \n",
       "\n",
       "  p38_race8 p40_language p_age p_agerange p41_gender1 p41_gender2 p41_gender3  \\\n",
       "0       NaN          NaN   NaN        NaN         NaN         NaN         NaN   \n",
       "1       NaN      English  28.0      25-34  gender_oth   twospirit       woman   \n",
       "2       NaN          NaN   NaN        NaN         NaN         NaN         NaN   \n",
       "3       NaN          NaN   NaN        NaN         NaN         NaN         NaN   \n",
       "4       NaN          NaN   NaN        NaN         NaN         NaN         NaN   \n",
       "\n",
       "  p41_gender4 p41_gender5  \n",
       "0         NaN         NaN  \n",
       "1         NaN         NaN  \n",
       "2         NaN         NaN  \n",
       "3         NaN         NaN  \n",
       "4         NaN         NaN  \n",
       "\n",
       "[5 rows x 124 columns]"
      ]
     },
     "execution_count": 78,
     "metadata": {},
     "output_type": "execute_result"
    }
   ],
   "source": [
    "data.head()"
   ]
  },
  {
   "cell_type": "markdown",
   "id": "d67604ea",
   "metadata": {},
   "source": [
    "### Age Range Column"
   ]
  },
  {
   "cell_type": "markdown",
   "id": "584e0c12",
   "metadata": {},
   "source": [
    "Consolidating age range data from 'g_agerange' and 'p_agerange' columns for the same ID into a single column named 'g_agerange'."
   ]
  },
  {
   "cell_type": "code",
   "execution_count": 79,
   "id": "5eb9a571",
   "metadata": {},
   "outputs": [],
   "source": [
    "data['g_agerange'] = data['g_agerange'].fillna(data['p_agerange'])"
   ]
  },
  {
   "cell_type": "markdown",
   "id": "e9dc1958",
   "metadata": {},
   "source": [
    "Dropping 'p_agerange' column from dataset"
   ]
  },
  {
   "cell_type": "code",
   "execution_count": 80,
   "id": "5cd22db1",
   "metadata": {},
   "outputs": [
    {
     "data": {
      "text/html": [
       "<div>\n",
       "<style scoped>\n",
       "    .dataframe tbody tr th:only-of-type {\n",
       "        vertical-align: middle;\n",
       "    }\n",
       "\n",
       "    .dataframe tbody tr th {\n",
       "        vertical-align: top;\n",
       "    }\n",
       "\n",
       "    .dataframe thead th {\n",
       "        text-align: right;\n",
       "    }\n",
       "</style>\n",
       "<table border=\"1\" class=\"dataframe\">\n",
       "  <thead>\n",
       "    <tr style=\"text-align: right;\">\n",
       "      <th></th>\n",
       "      <th>id</th>\n",
       "      <th>g16_county</th>\n",
       "      <th>g17_region</th>\n",
       "      <th>g18_community</th>\n",
       "      <th>g20_raceethnicity1</th>\n",
       "      <th>g20_raceethnicity2</th>\n",
       "      <th>g20_raceethnicity3</th>\n",
       "      <th>g20_raceethnicity4</th>\n",
       "      <th>g20_raceethnicity5</th>\n",
       "      <th>g20_raceethnicity6</th>\n",
       "      <th>...</th>\n",
       "      <th>p38_race6</th>\n",
       "      <th>p38_race7</th>\n",
       "      <th>p38_race8</th>\n",
       "      <th>p40_language</th>\n",
       "      <th>p_age</th>\n",
       "      <th>p41_gender1</th>\n",
       "      <th>p41_gender2</th>\n",
       "      <th>p41_gender3</th>\n",
       "      <th>p41_gender4</th>\n",
       "      <th>p41_gender5</th>\n",
       "    </tr>\n",
       "  </thead>\n",
       "  <tbody>\n",
       "    <tr>\n",
       "      <th>0</th>\n",
       "      <td>N3R8BXQE4K</td>\n",
       "      <td>Erie County</td>\n",
       "      <td>Western New York</td>\n",
       "      <td>Urban</td>\n",
       "      <td>Asian or Pacific Islander</td>\n",
       "      <td>White</td>\n",
       "      <td>NaN</td>\n",
       "      <td>NaN</td>\n",
       "      <td>NaN</td>\n",
       "      <td>NaN</td>\n",
       "      <td>...</td>\n",
       "      <td>NaN</td>\n",
       "      <td>NaN</td>\n",
       "      <td>NaN</td>\n",
       "      <td>NaN</td>\n",
       "      <td>NaN</td>\n",
       "      <td>NaN</td>\n",
       "      <td>NaN</td>\n",
       "      <td>NaN</td>\n",
       "      <td>NaN</td>\n",
       "      <td>NaN</td>\n",
       "    </tr>\n",
       "    <tr>\n",
       "      <th>1</th>\n",
       "      <td>E555HATF05</td>\n",
       "      <td>NaN</td>\n",
       "      <td>NaN</td>\n",
       "      <td>NaN</td>\n",
       "      <td>NaN</td>\n",
       "      <td>NaN</td>\n",
       "      <td>NaN</td>\n",
       "      <td>NaN</td>\n",
       "      <td>NaN</td>\n",
       "      <td>NaN</td>\n",
       "      <td>...</td>\n",
       "      <td>NaN</td>\n",
       "      <td>NaN</td>\n",
       "      <td>NaN</td>\n",
       "      <td>English</td>\n",
       "      <td>28.0</td>\n",
       "      <td>gender_oth</td>\n",
       "      <td>twospirit</td>\n",
       "      <td>woman</td>\n",
       "      <td>NaN</td>\n",
       "      <td>NaN</td>\n",
       "    </tr>\n",
       "    <tr>\n",
       "      <th>2</th>\n",
       "      <td>0LTH6QJQH8</td>\n",
       "      <td>New York County (Manhattan)</td>\n",
       "      <td>New York City</td>\n",
       "      <td>Urban</td>\n",
       "      <td>White</td>\n",
       "      <td>NaN</td>\n",
       "      <td>NaN</td>\n",
       "      <td>NaN</td>\n",
       "      <td>NaN</td>\n",
       "      <td>NaN</td>\n",
       "      <td>...</td>\n",
       "      <td>NaN</td>\n",
       "      <td>NaN</td>\n",
       "      <td>NaN</td>\n",
       "      <td>NaN</td>\n",
       "      <td>NaN</td>\n",
       "      <td>NaN</td>\n",
       "      <td>NaN</td>\n",
       "      <td>NaN</td>\n",
       "      <td>NaN</td>\n",
       "      <td>NaN</td>\n",
       "    </tr>\n",
       "    <tr>\n",
       "      <th>3</th>\n",
       "      <td>R3S4V21D40</td>\n",
       "      <td>New York County (Manhattan)</td>\n",
       "      <td>New York City</td>\n",
       "      <td>Urban</td>\n",
       "      <td>Black or African American</td>\n",
       "      <td>NaN</td>\n",
       "      <td>NaN</td>\n",
       "      <td>NaN</td>\n",
       "      <td>NaN</td>\n",
       "      <td>NaN</td>\n",
       "      <td>...</td>\n",
       "      <td>NaN</td>\n",
       "      <td>NaN</td>\n",
       "      <td>NaN</td>\n",
       "      <td>NaN</td>\n",
       "      <td>NaN</td>\n",
       "      <td>NaN</td>\n",
       "      <td>NaN</td>\n",
       "      <td>NaN</td>\n",
       "      <td>NaN</td>\n",
       "      <td>NaN</td>\n",
       "    </tr>\n",
       "    <tr>\n",
       "      <th>4</th>\n",
       "      <td>BZEFVJAYBT</td>\n",
       "      <td>Kings County (Brooklyn)</td>\n",
       "      <td>New York City</td>\n",
       "      <td>Urban</td>\n",
       "      <td>Asian or Pacific Islander</td>\n",
       "      <td>Arab or Middle Eastern</td>\n",
       "      <td>NaN</td>\n",
       "      <td>NaN</td>\n",
       "      <td>NaN</td>\n",
       "      <td>NaN</td>\n",
       "      <td>...</td>\n",
       "      <td>NaN</td>\n",
       "      <td>NaN</td>\n",
       "      <td>NaN</td>\n",
       "      <td>NaN</td>\n",
       "      <td>NaN</td>\n",
       "      <td>NaN</td>\n",
       "      <td>NaN</td>\n",
       "      <td>NaN</td>\n",
       "      <td>NaN</td>\n",
       "      <td>NaN</td>\n",
       "    </tr>\n",
       "    <tr>\n",
       "      <th>...</th>\n",
       "      <td>...</td>\n",
       "      <td>...</td>\n",
       "      <td>...</td>\n",
       "      <td>...</td>\n",
       "      <td>...</td>\n",
       "      <td>...</td>\n",
       "      <td>...</td>\n",
       "      <td>...</td>\n",
       "      <td>...</td>\n",
       "      <td>...</td>\n",
       "      <td>...</td>\n",
       "      <td>...</td>\n",
       "      <td>...</td>\n",
       "      <td>...</td>\n",
       "      <td>...</td>\n",
       "      <td>...</td>\n",
       "      <td>...</td>\n",
       "      <td>...</td>\n",
       "      <td>...</td>\n",
       "      <td>...</td>\n",
       "      <td>...</td>\n",
       "    </tr>\n",
       "    <tr>\n",
       "      <th>23792</th>\n",
       "      <td>HGEVZINP2O</td>\n",
       "      <td>NaN</td>\n",
       "      <td>NaN</td>\n",
       "      <td>NaN</td>\n",
       "      <td>NaN</td>\n",
       "      <td>NaN</td>\n",
       "      <td>NaN</td>\n",
       "      <td>NaN</td>\n",
       "      <td>NaN</td>\n",
       "      <td>NaN</td>\n",
       "      <td>...</td>\n",
       "      <td>NaN</td>\n",
       "      <td>NaN</td>\n",
       "      <td>NaN</td>\n",
       "      <td>NaN</td>\n",
       "      <td>47.0</td>\n",
       "      <td>NaN</td>\n",
       "      <td>NaN</td>\n",
       "      <td>NaN</td>\n",
       "      <td>NaN</td>\n",
       "      <td>NaN</td>\n",
       "    </tr>\n",
       "    <tr>\n",
       "      <th>23793</th>\n",
       "      <td>CHR3RMXHT9</td>\n",
       "      <td>NaN</td>\n",
       "      <td>NaN</td>\n",
       "      <td>NaN</td>\n",
       "      <td>NaN</td>\n",
       "      <td>NaN</td>\n",
       "      <td>NaN</td>\n",
       "      <td>NaN</td>\n",
       "      <td>NaN</td>\n",
       "      <td>NaN</td>\n",
       "      <td>...</td>\n",
       "      <td>NaN</td>\n",
       "      <td>NaN</td>\n",
       "      <td>NaN</td>\n",
       "      <td>English</td>\n",
       "      <td>36.0</td>\n",
       "      <td>woman</td>\n",
       "      <td>NaN</td>\n",
       "      <td>NaN</td>\n",
       "      <td>NaN</td>\n",
       "      <td>NaN</td>\n",
       "    </tr>\n",
       "    <tr>\n",
       "      <th>23794</th>\n",
       "      <td>8JAPTUXUT0</td>\n",
       "      <td>NaN</td>\n",
       "      <td>NaN</td>\n",
       "      <td>NaN</td>\n",
       "      <td>NaN</td>\n",
       "      <td>NaN</td>\n",
       "      <td>NaN</td>\n",
       "      <td>NaN</td>\n",
       "      <td>NaN</td>\n",
       "      <td>NaN</td>\n",
       "      <td>...</td>\n",
       "      <td>NaN</td>\n",
       "      <td>NaN</td>\n",
       "      <td>NaN</td>\n",
       "      <td>English</td>\n",
       "      <td>32.0</td>\n",
       "      <td>woman</td>\n",
       "      <td>NaN</td>\n",
       "      <td>NaN</td>\n",
       "      <td>NaN</td>\n",
       "      <td>NaN</td>\n",
       "    </tr>\n",
       "    <tr>\n",
       "      <th>23795</th>\n",
       "      <td>JJJ7EM4100</td>\n",
       "      <td>NaN</td>\n",
       "      <td>NaN</td>\n",
       "      <td>NaN</td>\n",
       "      <td>NaN</td>\n",
       "      <td>NaN</td>\n",
       "      <td>NaN</td>\n",
       "      <td>NaN</td>\n",
       "      <td>NaN</td>\n",
       "      <td>NaN</td>\n",
       "      <td>...</td>\n",
       "      <td>NaN</td>\n",
       "      <td>NaN</td>\n",
       "      <td>NaN</td>\n",
       "      <td>NaN</td>\n",
       "      <td>0.0</td>\n",
       "      <td>NaN</td>\n",
       "      <td>NaN</td>\n",
       "      <td>NaN</td>\n",
       "      <td>NaN</td>\n",
       "      <td>NaN</td>\n",
       "    </tr>\n",
       "    <tr>\n",
       "      <th>23796</th>\n",
       "      <td>Z9I2V387IN</td>\n",
       "      <td>NaN</td>\n",
       "      <td>NaN</td>\n",
       "      <td>NaN</td>\n",
       "      <td>NaN</td>\n",
       "      <td>NaN</td>\n",
       "      <td>NaN</td>\n",
       "      <td>NaN</td>\n",
       "      <td>NaN</td>\n",
       "      <td>NaN</td>\n",
       "      <td>...</td>\n",
       "      <td>NaN</td>\n",
       "      <td>NaN</td>\n",
       "      <td>NaN</td>\n",
       "      <td>NaN</td>\n",
       "      <td>36.0</td>\n",
       "      <td>NaN</td>\n",
       "      <td>NaN</td>\n",
       "      <td>NaN</td>\n",
       "      <td>NaN</td>\n",
       "      <td>NaN</td>\n",
       "    </tr>\n",
       "  </tbody>\n",
       "</table>\n",
       "<p>23797 rows × 123 columns</p>\n",
       "</div>"
      ],
      "text/plain": [
       "               id                      g16_county        g17_region  \\\n",
       "0      N3R8BXQE4K                  Erie County     Western New York   \n",
       "1      E555HATF05                             NaN               NaN   \n",
       "2      0LTH6QJQH8  New York County (Manhattan)        New York City   \n",
       "3      R3S4V21D40  New York County (Manhattan)        New York City   \n",
       "4      BZEFVJAYBT       Kings County (Brooklyn)       New York City   \n",
       "...           ...                             ...               ...   \n",
       "23792  HGEVZINP2O                             NaN               NaN   \n",
       "23793  CHR3RMXHT9                             NaN               NaN   \n",
       "23794  8JAPTUXUT0                             NaN               NaN   \n",
       "23795  JJJ7EM4100                             NaN               NaN   \n",
       "23796  Z9I2V387IN                             NaN               NaN   \n",
       "\n",
       "      g18_community          g20_raceethnicity1        g20_raceethnicity2  \\\n",
       "0           Urban    Asian or Pacific Islander                    White     \n",
       "1               NaN                         NaN                       NaN   \n",
       "2           Urban                       White                         NaN   \n",
       "3           Urban    Black or African American                        NaN   \n",
       "4           Urban    Asian or Pacific Islander    Arab or Middle Eastern    \n",
       "...             ...                         ...                       ...   \n",
       "23792           NaN                         NaN                       NaN   \n",
       "23793           NaN                         NaN                       NaN   \n",
       "23794           NaN                         NaN                       NaN   \n",
       "23795           NaN                         NaN                       NaN   \n",
       "23796           NaN                         NaN                       NaN   \n",
       "\n",
       "      g20_raceethnicity3 g20_raceethnicity4 g20_raceethnicity5  \\\n",
       "0                    NaN                NaN                NaN   \n",
       "1                    NaN                NaN                NaN   \n",
       "2                    NaN                NaN                NaN   \n",
       "3                    NaN                NaN                NaN   \n",
       "4                    NaN                NaN                NaN   \n",
       "...                  ...                ...                ...   \n",
       "23792                NaN                NaN                NaN   \n",
       "23793                NaN                NaN                NaN   \n",
       "23794                NaN                NaN                NaN   \n",
       "23795                NaN                NaN                NaN   \n",
       "23796                NaN                NaN                NaN   \n",
       "\n",
       "      g20_raceethnicity6  ... p38_race6 p38_race7 p38_race8 p40_language  \\\n",
       "0                    NaN  ...       NaN       NaN       NaN          NaN   \n",
       "1                    NaN  ...       NaN       NaN       NaN      English   \n",
       "2                    NaN  ...       NaN       NaN       NaN          NaN   \n",
       "3                    NaN  ...       NaN       NaN       NaN          NaN   \n",
       "4                    NaN  ...       NaN       NaN       NaN          NaN   \n",
       "...                  ...  ...       ...       ...       ...          ...   \n",
       "23792                NaN  ...       NaN       NaN       NaN          NaN   \n",
       "23793                NaN  ...       NaN       NaN       NaN      English   \n",
       "23794                NaN  ...       NaN       NaN       NaN      English   \n",
       "23795                NaN  ...       NaN       NaN       NaN          NaN   \n",
       "23796                NaN  ...       NaN       NaN       NaN          NaN   \n",
       "\n",
       "      p_age p41_gender1 p41_gender2 p41_gender3 p41_gender4 p41_gender5  \n",
       "0       NaN         NaN         NaN         NaN         NaN         NaN  \n",
       "1      28.0  gender_oth   twospirit       woman         NaN         NaN  \n",
       "2       NaN         NaN         NaN         NaN         NaN         NaN  \n",
       "3       NaN         NaN         NaN         NaN         NaN         NaN  \n",
       "4       NaN         NaN         NaN         NaN         NaN         NaN  \n",
       "...     ...         ...         ...         ...         ...         ...  \n",
       "23792  47.0         NaN         NaN         NaN         NaN         NaN  \n",
       "23793  36.0       woman         NaN         NaN         NaN         NaN  \n",
       "23794  32.0       woman         NaN         NaN         NaN         NaN  \n",
       "23795   0.0         NaN         NaN         NaN         NaN         NaN  \n",
       "23796  36.0         NaN         NaN         NaN         NaN         NaN  \n",
       "\n",
       "[23797 rows x 123 columns]"
      ]
     },
     "execution_count": 80,
     "metadata": {},
     "output_type": "execute_result"
    }
   ],
   "source": [
    "data.drop(['p_agerange'], axis =1)"
   ]
  },
  {
   "cell_type": "code",
   "execution_count": 82,
   "id": "b4bf646b",
   "metadata": {},
   "outputs": [
    {
     "data": {
      "text/html": [
       "<div>\n",
       "<style scoped>\n",
       "    .dataframe tbody tr th:only-of-type {\n",
       "        vertical-align: middle;\n",
       "    }\n",
       "\n",
       "    .dataframe tbody tr th {\n",
       "        vertical-align: top;\n",
       "    }\n",
       "\n",
       "    .dataframe thead th {\n",
       "        text-align: right;\n",
       "    }\n",
       "</style>\n",
       "<table border=\"1\" class=\"dataframe\">\n",
       "  <thead>\n",
       "    <tr style=\"text-align: right;\">\n",
       "      <th></th>\n",
       "      <th>id</th>\n",
       "      <th>g16_county</th>\n",
       "      <th>g17_region</th>\n",
       "      <th>g18_community</th>\n",
       "      <th>g20_raceethnicity1</th>\n",
       "      <th>g20_raceethnicity2</th>\n",
       "      <th>g20_raceethnicity3</th>\n",
       "      <th>g20_raceethnicity4</th>\n",
       "      <th>g20_raceethnicity5</th>\n",
       "      <th>g20_raceethnicity6</th>\n",
       "      <th>...</th>\n",
       "      <th>p38_race7</th>\n",
       "      <th>p38_race8</th>\n",
       "      <th>p40_language</th>\n",
       "      <th>p_age</th>\n",
       "      <th>p_agerange</th>\n",
       "      <th>p41_gender1</th>\n",
       "      <th>p41_gender2</th>\n",
       "      <th>p41_gender3</th>\n",
       "      <th>p41_gender4</th>\n",
       "      <th>p41_gender5</th>\n",
       "    </tr>\n",
       "  </thead>\n",
       "  <tbody>\n",
       "    <tr>\n",
       "      <th>0</th>\n",
       "      <td>N3R8BXQE4K</td>\n",
       "      <td>Erie County</td>\n",
       "      <td>Western New York</td>\n",
       "      <td>Urban</td>\n",
       "      <td>Asian or Pacific Islander</td>\n",
       "      <td>White</td>\n",
       "      <td>NaN</td>\n",
       "      <td>NaN</td>\n",
       "      <td>NaN</td>\n",
       "      <td>NaN</td>\n",
       "      <td>...</td>\n",
       "      <td>NaN</td>\n",
       "      <td>NaN</td>\n",
       "      <td>NaN</td>\n",
       "      <td>NaN</td>\n",
       "      <td>NaN</td>\n",
       "      <td>NaN</td>\n",
       "      <td>NaN</td>\n",
       "      <td>NaN</td>\n",
       "      <td>NaN</td>\n",
       "      <td>NaN</td>\n",
       "    </tr>\n",
       "    <tr>\n",
       "      <th>1</th>\n",
       "      <td>E555HATF05</td>\n",
       "      <td>NaN</td>\n",
       "      <td>NaN</td>\n",
       "      <td>NaN</td>\n",
       "      <td>NaN</td>\n",
       "      <td>NaN</td>\n",
       "      <td>NaN</td>\n",
       "      <td>NaN</td>\n",
       "      <td>NaN</td>\n",
       "      <td>NaN</td>\n",
       "      <td>...</td>\n",
       "      <td>NaN</td>\n",
       "      <td>NaN</td>\n",
       "      <td>English</td>\n",
       "      <td>28.0</td>\n",
       "      <td>25-34</td>\n",
       "      <td>gender_oth</td>\n",
       "      <td>twospirit</td>\n",
       "      <td>woman</td>\n",
       "      <td>NaN</td>\n",
       "      <td>NaN</td>\n",
       "    </tr>\n",
       "    <tr>\n",
       "      <th>2</th>\n",
       "      <td>0LTH6QJQH8</td>\n",
       "      <td>New York County (Manhattan)</td>\n",
       "      <td>New York City</td>\n",
       "      <td>Urban</td>\n",
       "      <td>White</td>\n",
       "      <td>NaN</td>\n",
       "      <td>NaN</td>\n",
       "      <td>NaN</td>\n",
       "      <td>NaN</td>\n",
       "      <td>NaN</td>\n",
       "      <td>...</td>\n",
       "      <td>NaN</td>\n",
       "      <td>NaN</td>\n",
       "      <td>NaN</td>\n",
       "      <td>NaN</td>\n",
       "      <td>NaN</td>\n",
       "      <td>NaN</td>\n",
       "      <td>NaN</td>\n",
       "      <td>NaN</td>\n",
       "      <td>NaN</td>\n",
       "      <td>NaN</td>\n",
       "    </tr>\n",
       "    <tr>\n",
       "      <th>3</th>\n",
       "      <td>R3S4V21D40</td>\n",
       "      <td>New York County (Manhattan)</td>\n",
       "      <td>New York City</td>\n",
       "      <td>Urban</td>\n",
       "      <td>Black or African American</td>\n",
       "      <td>NaN</td>\n",
       "      <td>NaN</td>\n",
       "      <td>NaN</td>\n",
       "      <td>NaN</td>\n",
       "      <td>NaN</td>\n",
       "      <td>...</td>\n",
       "      <td>NaN</td>\n",
       "      <td>NaN</td>\n",
       "      <td>NaN</td>\n",
       "      <td>NaN</td>\n",
       "      <td>NaN</td>\n",
       "      <td>NaN</td>\n",
       "      <td>NaN</td>\n",
       "      <td>NaN</td>\n",
       "      <td>NaN</td>\n",
       "      <td>NaN</td>\n",
       "    </tr>\n",
       "    <tr>\n",
       "      <th>4</th>\n",
       "      <td>BZEFVJAYBT</td>\n",
       "      <td>Kings County (Brooklyn)</td>\n",
       "      <td>New York City</td>\n",
       "      <td>Urban</td>\n",
       "      <td>Asian or Pacific Islander</td>\n",
       "      <td>Arab or Middle Eastern</td>\n",
       "      <td>NaN</td>\n",
       "      <td>NaN</td>\n",
       "      <td>NaN</td>\n",
       "      <td>NaN</td>\n",
       "      <td>...</td>\n",
       "      <td>NaN</td>\n",
       "      <td>NaN</td>\n",
       "      <td>NaN</td>\n",
       "      <td>NaN</td>\n",
       "      <td>NaN</td>\n",
       "      <td>NaN</td>\n",
       "      <td>NaN</td>\n",
       "      <td>NaN</td>\n",
       "      <td>NaN</td>\n",
       "      <td>NaN</td>\n",
       "    </tr>\n",
       "  </tbody>\n",
       "</table>\n",
       "<p>5 rows × 124 columns</p>\n",
       "</div>"
      ],
      "text/plain": [
       "           id                      g16_county        g17_region g18_community  \\\n",
       "0  N3R8BXQE4K                  Erie County     Western New York       Urban     \n",
       "1  E555HATF05                             NaN               NaN           NaN   \n",
       "2  0LTH6QJQH8  New York County (Manhattan)        New York City       Urban     \n",
       "3  R3S4V21D40  New York County (Manhattan)        New York City       Urban     \n",
       "4  BZEFVJAYBT       Kings County (Brooklyn)       New York City       Urban     \n",
       "\n",
       "           g20_raceethnicity1        g20_raceethnicity2 g20_raceethnicity3  \\\n",
       "0  Asian or Pacific Islander                    White                  NaN   \n",
       "1                         NaN                       NaN                NaN   \n",
       "2                     White                         NaN                NaN   \n",
       "3  Black or African American                        NaN                NaN   \n",
       "4  Asian or Pacific Islander    Arab or Middle Eastern                 NaN   \n",
       "\n",
       "  g20_raceethnicity4 g20_raceethnicity5 g20_raceethnicity6  ... p38_race7  \\\n",
       "0                NaN                NaN                NaN  ...       NaN   \n",
       "1                NaN                NaN                NaN  ...       NaN   \n",
       "2                NaN                NaN                NaN  ...       NaN   \n",
       "3                NaN                NaN                NaN  ...       NaN   \n",
       "4                NaN                NaN                NaN  ...       NaN   \n",
       "\n",
       "  p38_race8 p40_language p_age p_agerange p41_gender1 p41_gender2 p41_gender3  \\\n",
       "0       NaN          NaN   NaN        NaN         NaN         NaN         NaN   \n",
       "1       NaN      English  28.0      25-34  gender_oth   twospirit       woman   \n",
       "2       NaN          NaN   NaN        NaN         NaN         NaN         NaN   \n",
       "3       NaN          NaN   NaN        NaN         NaN         NaN         NaN   \n",
       "4       NaN          NaN   NaN        NaN         NaN         NaN         NaN   \n",
       "\n",
       "  p41_gender4 p41_gender5  \n",
       "0         NaN         NaN  \n",
       "1         NaN         NaN  \n",
       "2         NaN         NaN  \n",
       "3         NaN         NaN  \n",
       "4         NaN         NaN  \n",
       "\n",
       "[5 rows x 124 columns]"
      ]
     },
     "execution_count": 82,
     "metadata": {},
     "output_type": "execute_result"
    }
   ],
   "source": [
    "data.head()"
   ]
  },
  {
   "cell_type": "markdown",
   "id": "883077f6",
   "metadata": {},
   "source": [
    "Replacing ambiguity columns"
   ]
  },
  {
   "cell_type": "code",
   "execution_count": 83,
   "id": "d4e9f097",
   "metadata": {},
   "outputs": [
    {
     "data": {
      "text/plain": [
       "array(['25-34', '35-44', '18-24', '65-74', '55-64', '45-54', nan, '75-84'],\n",
       "      dtype=object)"
      ]
     },
     "execution_count": 83,
     "metadata": {},
     "output_type": "execute_result"
    }
   ],
   "source": [
    "data['g_agerange'] = data['g_agerange'].replace('65+', '65-74')\n",
    "data['g_agerange'].unique()"
   ]
  },
  {
   "cell_type": "markdown",
   "id": "c8b2852d",
   "metadata": {},
   "source": [
    "Retreiving the count of artists for each age distribution"
   ]
  },
  {
   "cell_type": "code",
   "execution_count": 84,
   "id": "fd5633b5",
   "metadata": {},
   "outputs": [
    {
     "data": {
      "text/plain": [
       "{'25-34': 10407,\n",
       " '35-44': 5381,\n",
       " '18-24': 2972,\n",
       " '65-74': 1047,\n",
       " '55-64': 1493,\n",
       " '45-54': 2358,\n",
       " '75-84': 99}"
      ]
     },
     "execution_count": 84,
     "metadata": {},
     "output_type": "execute_result"
    }
   ],
   "source": [
    "categories = [\n",
    "    \"25-34\",\n",
    "    \"35-44\",\n",
    "    \"18-24\",\n",
    "    \"65-74\",\n",
    "    \"55-64\",\n",
    "    \"45-54\",\n",
    "    \"75-84\"]\n",
    "\n",
    "# Initialize a dictionary to hold the counts for each category\n",
    "category_counts = {category: 0 for category in categories}\n",
    "\n",
    "# Iterate through the dataset and count occurrences of each category\n",
    "for category in categories:\n",
    "    category_counts[category] += data['g_agerange'].str.contains(category, case=False, na=False).sum()\n",
    "\n",
    "category_counts"
   ]
  },
  {
   "cell_type": "markdown",
   "id": "c0ccc987",
   "metadata": {},
   "source": [
    "### Gender Column"
   ]
  },
  {
   "cell_type": "markdown",
   "id": "a841d37f",
   "metadata": {},
   "source": [
    "Consolidating age range data from 'g23_gender' and 'p41_gender' columns for the same ID into 'g23_gender' columns"
   ]
  },
  {
   "cell_type": "code",
   "execution_count": 85,
   "id": "a41601c8",
   "metadata": {},
   "outputs": [],
   "source": [
    "data['g23_gender1'] = data['g23_gender1'].fillna(data['p41_gender1'])\n",
    "data['g23_gender2'] = data['g23_gender2'].fillna(data['p41_gender2'])\n",
    "data['g23_gender3'] = data['g23_gender3'].fillna(data['p41_gender3'])\n",
    "data['g23_gender4'] = data['g23_gender4'].fillna(data['p41_gender4'])\n",
    "data['g23_gender5'] = data['g23_gender5'].fillna(data['p41_gender5'])"
   ]
  },
  {
   "cell_type": "markdown",
   "id": "78fd8b1f",
   "metadata": {},
   "source": [
    "Dropping 'p41_gender' columns"
   ]
  },
  {
   "cell_type": "code",
   "execution_count": 86,
   "id": "82365279",
   "metadata": {},
   "outputs": [
    {
     "data": {
      "text/html": [
       "<div>\n",
       "<style scoped>\n",
       "    .dataframe tbody tr th:only-of-type {\n",
       "        vertical-align: middle;\n",
       "    }\n",
       "\n",
       "    .dataframe tbody tr th {\n",
       "        vertical-align: top;\n",
       "    }\n",
       "\n",
       "    .dataframe thead th {\n",
       "        text-align: right;\n",
       "    }\n",
       "</style>\n",
       "<table border=\"1\" class=\"dataframe\">\n",
       "  <thead>\n",
       "    <tr style=\"text-align: right;\">\n",
       "      <th></th>\n",
       "      <th>id</th>\n",
       "      <th>g16_county</th>\n",
       "      <th>g17_region</th>\n",
       "      <th>g18_community</th>\n",
       "      <th>g20_raceethnicity1</th>\n",
       "      <th>g20_raceethnicity2</th>\n",
       "      <th>g20_raceethnicity3</th>\n",
       "      <th>g20_raceethnicity4</th>\n",
       "      <th>g20_raceethnicity5</th>\n",
       "      <th>g20_raceethnicity6</th>\n",
       "      <th>...</th>\n",
       "      <th>p38_race2</th>\n",
       "      <th>p38_race3</th>\n",
       "      <th>p38_race4</th>\n",
       "      <th>p38_race5</th>\n",
       "      <th>p38_race6</th>\n",
       "      <th>p38_race7</th>\n",
       "      <th>p38_race8</th>\n",
       "      <th>p40_language</th>\n",
       "      <th>p_age</th>\n",
       "      <th>p_agerange</th>\n",
       "    </tr>\n",
       "  </thead>\n",
       "  <tbody>\n",
       "    <tr>\n",
       "      <th>0</th>\n",
       "      <td>N3R8BXQE4K</td>\n",
       "      <td>Erie County</td>\n",
       "      <td>Western New York</td>\n",
       "      <td>Urban</td>\n",
       "      <td>Asian or Pacific Islander</td>\n",
       "      <td>White</td>\n",
       "      <td>NaN</td>\n",
       "      <td>NaN</td>\n",
       "      <td>NaN</td>\n",
       "      <td>NaN</td>\n",
       "      <td>...</td>\n",
       "      <td>NaN</td>\n",
       "      <td>NaN</td>\n",
       "      <td>NaN</td>\n",
       "      <td>NaN</td>\n",
       "      <td>NaN</td>\n",
       "      <td>NaN</td>\n",
       "      <td>NaN</td>\n",
       "      <td>NaN</td>\n",
       "      <td>NaN</td>\n",
       "      <td>NaN</td>\n",
       "    </tr>\n",
       "    <tr>\n",
       "      <th>1</th>\n",
       "      <td>E555HATF05</td>\n",
       "      <td>NaN</td>\n",
       "      <td>NaN</td>\n",
       "      <td>NaN</td>\n",
       "      <td>NaN</td>\n",
       "      <td>NaN</td>\n",
       "      <td>NaN</td>\n",
       "      <td>NaN</td>\n",
       "      <td>NaN</td>\n",
       "      <td>NaN</td>\n",
       "      <td>...</td>\n",
       "      <td>hispanlatinx</td>\n",
       "      <td>aianfn</td>\n",
       "      <td>NaN</td>\n",
       "      <td>NaN</td>\n",
       "      <td>NaN</td>\n",
       "      <td>NaN</td>\n",
       "      <td>NaN</td>\n",
       "      <td>English</td>\n",
       "      <td>28.0</td>\n",
       "      <td>25-34</td>\n",
       "    </tr>\n",
       "    <tr>\n",
       "      <th>2</th>\n",
       "      <td>0LTH6QJQH8</td>\n",
       "      <td>New York County (Manhattan)</td>\n",
       "      <td>New York City</td>\n",
       "      <td>Urban</td>\n",
       "      <td>White</td>\n",
       "      <td>NaN</td>\n",
       "      <td>NaN</td>\n",
       "      <td>NaN</td>\n",
       "      <td>NaN</td>\n",
       "      <td>NaN</td>\n",
       "      <td>...</td>\n",
       "      <td>NaN</td>\n",
       "      <td>NaN</td>\n",
       "      <td>NaN</td>\n",
       "      <td>NaN</td>\n",
       "      <td>NaN</td>\n",
       "      <td>NaN</td>\n",
       "      <td>NaN</td>\n",
       "      <td>NaN</td>\n",
       "      <td>NaN</td>\n",
       "      <td>NaN</td>\n",
       "    </tr>\n",
       "    <tr>\n",
       "      <th>3</th>\n",
       "      <td>R3S4V21D40</td>\n",
       "      <td>New York County (Manhattan)</td>\n",
       "      <td>New York City</td>\n",
       "      <td>Urban</td>\n",
       "      <td>Black or African American</td>\n",
       "      <td>NaN</td>\n",
       "      <td>NaN</td>\n",
       "      <td>NaN</td>\n",
       "      <td>NaN</td>\n",
       "      <td>NaN</td>\n",
       "      <td>...</td>\n",
       "      <td>NaN</td>\n",
       "      <td>NaN</td>\n",
       "      <td>NaN</td>\n",
       "      <td>NaN</td>\n",
       "      <td>NaN</td>\n",
       "      <td>NaN</td>\n",
       "      <td>NaN</td>\n",
       "      <td>NaN</td>\n",
       "      <td>NaN</td>\n",
       "      <td>NaN</td>\n",
       "    </tr>\n",
       "    <tr>\n",
       "      <th>4</th>\n",
       "      <td>BZEFVJAYBT</td>\n",
       "      <td>Kings County (Brooklyn)</td>\n",
       "      <td>New York City</td>\n",
       "      <td>Urban</td>\n",
       "      <td>Asian or Pacific Islander</td>\n",
       "      <td>Arab or Middle Eastern</td>\n",
       "      <td>NaN</td>\n",
       "      <td>NaN</td>\n",
       "      <td>NaN</td>\n",
       "      <td>NaN</td>\n",
       "      <td>...</td>\n",
       "      <td>NaN</td>\n",
       "      <td>NaN</td>\n",
       "      <td>NaN</td>\n",
       "      <td>NaN</td>\n",
       "      <td>NaN</td>\n",
       "      <td>NaN</td>\n",
       "      <td>NaN</td>\n",
       "      <td>NaN</td>\n",
       "      <td>NaN</td>\n",
       "      <td>NaN</td>\n",
       "    </tr>\n",
       "  </tbody>\n",
       "</table>\n",
       "<p>5 rows × 119 columns</p>\n",
       "</div>"
      ],
      "text/plain": [
       "           id                      g16_county        g17_region g18_community  \\\n",
       "0  N3R8BXQE4K                  Erie County     Western New York       Urban     \n",
       "1  E555HATF05                             NaN               NaN           NaN   \n",
       "2  0LTH6QJQH8  New York County (Manhattan)        New York City       Urban     \n",
       "3  R3S4V21D40  New York County (Manhattan)        New York City       Urban     \n",
       "4  BZEFVJAYBT       Kings County (Brooklyn)       New York City       Urban     \n",
       "\n",
       "           g20_raceethnicity1        g20_raceethnicity2 g20_raceethnicity3  \\\n",
       "0  Asian or Pacific Islander                    White                  NaN   \n",
       "1                         NaN                       NaN                NaN   \n",
       "2                     White                         NaN                NaN   \n",
       "3  Black or African American                        NaN                NaN   \n",
       "4  Asian or Pacific Islander    Arab or Middle Eastern                 NaN   \n",
       "\n",
       "  g20_raceethnicity4 g20_raceethnicity5 g20_raceethnicity6  ...     p38_race2  \\\n",
       "0                NaN                NaN                NaN  ...           NaN   \n",
       "1                NaN                NaN                NaN  ...  hispanlatinx   \n",
       "2                NaN                NaN                NaN  ...           NaN   \n",
       "3                NaN                NaN                NaN  ...           NaN   \n",
       "4                NaN                NaN                NaN  ...           NaN   \n",
       "\n",
       "  p38_race3 p38_race4 p38_race5 p38_race6 p38_race7 p38_race8 p40_language  \\\n",
       "0       NaN       NaN       NaN       NaN       NaN       NaN          NaN   \n",
       "1    aianfn       NaN       NaN       NaN       NaN       NaN      English   \n",
       "2       NaN       NaN       NaN       NaN       NaN       NaN          NaN   \n",
       "3       NaN       NaN       NaN       NaN       NaN       NaN          NaN   \n",
       "4       NaN       NaN       NaN       NaN       NaN       NaN          NaN   \n",
       "\n",
       "  p_age p_agerange  \n",
       "0   NaN        NaN  \n",
       "1  28.0      25-34  \n",
       "2   NaN        NaN  \n",
       "3   NaN        NaN  \n",
       "4   NaN        NaN  \n",
       "\n",
       "[5 rows x 119 columns]"
      ]
     },
     "execution_count": 86,
     "metadata": {},
     "output_type": "execute_result"
    }
   ],
   "source": [
    "data = data.drop(['p41_gender1','p41_gender2','p41_gender3','p41_gender4','p41_gender5'], axis =1)"
   ]
  },
  {
   "cell_type": "markdown",
   "id": "d9aa1cf1",
   "metadata": {},
   "source": [
    "Replacing ambiguity values"
   ]
  },
  {
   "cell_type": "code",
   "execution_count": 87,
   "id": "27412a53",
   "metadata": {},
   "outputs": [],
   "source": [
    "# Dictionary of replacements\n",
    "replacements = {\n",
    "    'woman': 'Woman',\n",
    "    'man': 'Man',\n",
    "    'nonbinary': 'Non-binary',\n",
    "    'twospirit': 'Two-spirit',\n",
    "    'gender_noanswer': 'I prefer not to answer',\n",
    "    'gender_oth':'Other (please describe)'\n",
    "}\n",
    "\n",
    "# Apply replacements to each gender column\n",
    "for col in ['g23_gender1','g23_gender2','g23_gender3','g23_gender4','g23_gender5']:\n",
    "    data[col] = data[col].replace(replacements)"
   ]
  },
  {
   "cell_type": "markdown",
   "id": "15cdfcee",
   "metadata": {},
   "source": [
    "Removing unwanted spaces in the string"
   ]
  },
  {
   "cell_type": "code",
   "execution_count": 88,
   "id": "f3309308",
   "metadata": {},
   "outputs": [
    {
     "data": {
      "text/plain": [
       "array(['Woman', 'Other (please describe)', 'Man', 'Non-binary',\n",
       "       'Two-spirit', 'I prefer not to answer', nan], dtype=object)"
      ]
     },
     "execution_count": 88,
     "metadata": {},
     "output_type": "execute_result"
    }
   ],
   "source": [
    "data['g23_gender1'] = data['g23_gender1'].str.strip()\n",
    "data['g23_gender2'] = data['g23_gender2'].str.strip()\n",
    "data['g23_gender3'] = data['g23_gender3'].str.strip()\n",
    "data['g23_gender4'] = data['g23_gender4'].str.strip()\n",
    "data['g23_gender5'] = data['g23_gender5'].str.strip()\n",
    "data['g23_gender1'].unique()"
   ]
  },
  {
   "cell_type": "markdown",
   "id": "b8106a08",
   "metadata": {},
   "source": [
    "Printing unique values"
   ]
  },
  {
   "cell_type": "code",
   "execution_count": 89,
   "id": "58f18cfe",
   "metadata": {},
   "outputs": [
    {
     "data": {
      "text/plain": [
       "array(['Woman', 'Other (please describe)', 'Man', 'Non-binary',\n",
       "       'Two-spirit', 'I prefer not to answer', nan], dtype=object)"
      ]
     },
     "execution_count": 89,
     "metadata": {},
     "output_type": "execute_result"
    }
   ],
   "source": [
    "all_genders = pd.concat([\n",
    "    data['g23_gender1'], \n",
    "    data['g23_gender2'], \n",
    "    data['g23_gender3'], \n",
    "    data['g23_gender4'], \n",
    "    data['g23_gender5']\n",
    "])\n",
    "\n",
    "all_genders.unique()"
   ]
  },
  {
   "cell_type": "markdown",
   "id": "1df0214d",
   "metadata": {},
   "source": [
    "Retreiving the count of artists in each gender "
   ]
  },
  {
   "cell_type": "code",
   "execution_count": 90,
   "id": "b38e887a",
   "metadata": {},
   "outputs": [
    {
     "name": "stdout",
     "output_type": "stream",
     "text": [
      "{'Woman': 10703, 'Other (please describe)': 610, 'Man': 9880, 'Non-binary': 3161, 'Two-spirit': 482, 'I prefer not to answer': 595}\n"
     ]
    }
   ],
   "source": [
    "# Define the gender categories\n",
    "categories = [\n",
    "    \"Woman\",\n",
    "    \"Other (please describe)\",\n",
    "    \"Man\",\n",
    "    \"Non-binary\",\n",
    "    \"Two-spirit\",\n",
    "    \"I prefer not to answer\"\n",
    "]\n",
    "\n",
    "# Initialize a dictionary to hold the counts for each category\n",
    "category_counts = {category: 0 for category in categories}\n",
    "\n",
    "# List of gender columns\n",
    "gender_columns = ['g23_gender1', 'g23_gender2', 'g23_gender3', 'g23_gender4', 'g23_gender5']\n",
    "\n",
    "# Iterate through the DataFrame rows\n",
    "for index, row in data.iterrows():\n",
    "    seen_categories = set()  # Track seen categories for this row\n",
    "    for column in gender_columns:\n",
    "        cell_value = row[column]\n",
    "        # Ensure cell_value is a string\n",
    "        if pd.notnull(cell_value):\n",
    "            cell_value = str(cell_value).strip().title()\n",
    "            for category in categories:\n",
    "                # Check if the cell contains the category, considering only unseen categories\n",
    "                if category.title() == cell_value and category not in seen_categories:\n",
    "                    category_counts[category] += 1\n",
    "                    seen_categories.add(category)  # Mark the category as seen\n",
    "\n",
    "print(category_counts)"
   ]
  },
  {
   "cell_type": "code",
   "execution_count": 91,
   "id": "581f3283",
   "metadata": {},
   "outputs": [
    {
     "data": {
      "text/html": [
       "<div>\n",
       "<style scoped>\n",
       "    .dataframe tbody tr th:only-of-type {\n",
       "        vertical-align: middle;\n",
       "    }\n",
       "\n",
       "    .dataframe tbody tr th {\n",
       "        vertical-align: top;\n",
       "    }\n",
       "\n",
       "    .dataframe thead th {\n",
       "        text-align: right;\n",
       "    }\n",
       "</style>\n",
       "<table border=\"1\" class=\"dataframe\">\n",
       "  <thead>\n",
       "    <tr style=\"text-align: right;\">\n",
       "      <th></th>\n",
       "      <th>id</th>\n",
       "      <th>g16_county</th>\n",
       "      <th>g17_region</th>\n",
       "      <th>g18_community</th>\n",
       "      <th>g20_raceethnicity1</th>\n",
       "      <th>g20_raceethnicity2</th>\n",
       "      <th>g20_raceethnicity3</th>\n",
       "      <th>g20_raceethnicity4</th>\n",
       "      <th>g20_raceethnicity5</th>\n",
       "      <th>g20_raceethnicity6</th>\n",
       "      <th>...</th>\n",
       "      <th>p38_race2</th>\n",
       "      <th>p38_race3</th>\n",
       "      <th>p38_race4</th>\n",
       "      <th>p38_race5</th>\n",
       "      <th>p38_race6</th>\n",
       "      <th>p38_race7</th>\n",
       "      <th>p38_race8</th>\n",
       "      <th>p40_language</th>\n",
       "      <th>p_age</th>\n",
       "      <th>p_agerange</th>\n",
       "    </tr>\n",
       "  </thead>\n",
       "  <tbody>\n",
       "    <tr>\n",
       "      <th>0</th>\n",
       "      <td>N3R8BXQE4K</td>\n",
       "      <td>Erie County</td>\n",
       "      <td>Western New York</td>\n",
       "      <td>Urban</td>\n",
       "      <td>Asian or Pacific Islander</td>\n",
       "      <td>White</td>\n",
       "      <td>NaN</td>\n",
       "      <td>NaN</td>\n",
       "      <td>NaN</td>\n",
       "      <td>NaN</td>\n",
       "      <td>...</td>\n",
       "      <td>NaN</td>\n",
       "      <td>NaN</td>\n",
       "      <td>NaN</td>\n",
       "      <td>NaN</td>\n",
       "      <td>NaN</td>\n",
       "      <td>NaN</td>\n",
       "      <td>NaN</td>\n",
       "      <td>NaN</td>\n",
       "      <td>NaN</td>\n",
       "      <td>NaN</td>\n",
       "    </tr>\n",
       "    <tr>\n",
       "      <th>1</th>\n",
       "      <td>E555HATF05</td>\n",
       "      <td>NaN</td>\n",
       "      <td>NaN</td>\n",
       "      <td>NaN</td>\n",
       "      <td>NaN</td>\n",
       "      <td>NaN</td>\n",
       "      <td>NaN</td>\n",
       "      <td>NaN</td>\n",
       "      <td>NaN</td>\n",
       "      <td>NaN</td>\n",
       "      <td>...</td>\n",
       "      <td>hispanlatinx</td>\n",
       "      <td>aianfn</td>\n",
       "      <td>NaN</td>\n",
       "      <td>NaN</td>\n",
       "      <td>NaN</td>\n",
       "      <td>NaN</td>\n",
       "      <td>NaN</td>\n",
       "      <td>English</td>\n",
       "      <td>28.0</td>\n",
       "      <td>25-34</td>\n",
       "    </tr>\n",
       "    <tr>\n",
       "      <th>2</th>\n",
       "      <td>0LTH6QJQH8</td>\n",
       "      <td>New York County (Manhattan)</td>\n",
       "      <td>New York City</td>\n",
       "      <td>Urban</td>\n",
       "      <td>White</td>\n",
       "      <td>NaN</td>\n",
       "      <td>NaN</td>\n",
       "      <td>NaN</td>\n",
       "      <td>NaN</td>\n",
       "      <td>NaN</td>\n",
       "      <td>...</td>\n",
       "      <td>NaN</td>\n",
       "      <td>NaN</td>\n",
       "      <td>NaN</td>\n",
       "      <td>NaN</td>\n",
       "      <td>NaN</td>\n",
       "      <td>NaN</td>\n",
       "      <td>NaN</td>\n",
       "      <td>NaN</td>\n",
       "      <td>NaN</td>\n",
       "      <td>NaN</td>\n",
       "    </tr>\n",
       "    <tr>\n",
       "      <th>3</th>\n",
       "      <td>R3S4V21D40</td>\n",
       "      <td>New York County (Manhattan)</td>\n",
       "      <td>New York City</td>\n",
       "      <td>Urban</td>\n",
       "      <td>Black or African American</td>\n",
       "      <td>NaN</td>\n",
       "      <td>NaN</td>\n",
       "      <td>NaN</td>\n",
       "      <td>NaN</td>\n",
       "      <td>NaN</td>\n",
       "      <td>...</td>\n",
       "      <td>NaN</td>\n",
       "      <td>NaN</td>\n",
       "      <td>NaN</td>\n",
       "      <td>NaN</td>\n",
       "      <td>NaN</td>\n",
       "      <td>NaN</td>\n",
       "      <td>NaN</td>\n",
       "      <td>NaN</td>\n",
       "      <td>NaN</td>\n",
       "      <td>NaN</td>\n",
       "    </tr>\n",
       "    <tr>\n",
       "      <th>4</th>\n",
       "      <td>BZEFVJAYBT</td>\n",
       "      <td>Kings County (Brooklyn)</td>\n",
       "      <td>New York City</td>\n",
       "      <td>Urban</td>\n",
       "      <td>Asian or Pacific Islander</td>\n",
       "      <td>Arab or Middle Eastern</td>\n",
       "      <td>NaN</td>\n",
       "      <td>NaN</td>\n",
       "      <td>NaN</td>\n",
       "      <td>NaN</td>\n",
       "      <td>...</td>\n",
       "      <td>NaN</td>\n",
       "      <td>NaN</td>\n",
       "      <td>NaN</td>\n",
       "      <td>NaN</td>\n",
       "      <td>NaN</td>\n",
       "      <td>NaN</td>\n",
       "      <td>NaN</td>\n",
       "      <td>NaN</td>\n",
       "      <td>NaN</td>\n",
       "      <td>NaN</td>\n",
       "    </tr>\n",
       "  </tbody>\n",
       "</table>\n",
       "<p>5 rows × 119 columns</p>\n",
       "</div>"
      ],
      "text/plain": [
       "           id                      g16_county        g17_region g18_community  \\\n",
       "0  N3R8BXQE4K                  Erie County     Western New York       Urban     \n",
       "1  E555HATF05                             NaN               NaN           NaN   \n",
       "2  0LTH6QJQH8  New York County (Manhattan)        New York City       Urban     \n",
       "3  R3S4V21D40  New York County (Manhattan)        New York City       Urban     \n",
       "4  BZEFVJAYBT       Kings County (Brooklyn)       New York City       Urban     \n",
       "\n",
       "           g20_raceethnicity1        g20_raceethnicity2 g20_raceethnicity3  \\\n",
       "0  Asian or Pacific Islander                    White                  NaN   \n",
       "1                         NaN                       NaN                NaN   \n",
       "2                     White                         NaN                NaN   \n",
       "3  Black or African American                        NaN                NaN   \n",
       "4  Asian or Pacific Islander    Arab or Middle Eastern                 NaN   \n",
       "\n",
       "  g20_raceethnicity4 g20_raceethnicity5 g20_raceethnicity6  ...     p38_race2  \\\n",
       "0                NaN                NaN                NaN  ...           NaN   \n",
       "1                NaN                NaN                NaN  ...  hispanlatinx   \n",
       "2                NaN                NaN                NaN  ...           NaN   \n",
       "3                NaN                NaN                NaN  ...           NaN   \n",
       "4                NaN                NaN                NaN  ...           NaN   \n",
       "\n",
       "  p38_race3 p38_race4 p38_race5 p38_race6 p38_race7 p38_race8 p40_language  \\\n",
       "0       NaN       NaN       NaN       NaN       NaN       NaN          NaN   \n",
       "1    aianfn       NaN       NaN       NaN       NaN       NaN      English   \n",
       "2       NaN       NaN       NaN       NaN       NaN       NaN          NaN   \n",
       "3       NaN       NaN       NaN       NaN       NaN       NaN          NaN   \n",
       "4       NaN       NaN       NaN       NaN       NaN       NaN          NaN   \n",
       "\n",
       "  p_age p_agerange  \n",
       "0   NaN        NaN  \n",
       "1  28.0      25-34  \n",
       "2   NaN        NaN  \n",
       "3   NaN        NaN  \n",
       "4   NaN        NaN  \n",
       "\n",
       "[5 rows x 119 columns]"
      ]
     },
     "execution_count": 91,
     "metadata": {},
     "output_type": "execute_result"
    }
   ],
   "source": [
    "data.head()"
   ]
  },
  {
   "cell_type": "markdown",
   "id": "a77b2903",
   "metadata": {},
   "source": [
    "### Race Ethnicity"
   ]
  },
  {
   "cell_type": "code",
   "execution_count": 92,
   "id": "bcc479e6",
   "metadata": {},
   "outputs": [],
   "source": [
    "data['g20_raceethnicity1'] = data['g20_raceethnicity1'].fillna(data['p38_race1'])\n",
    "data['g20_raceethnicity2'] = data['g20_raceethnicity2'].fillna(data['p38_race2'])\n",
    "data['g20_raceethnicity3'] = data['g20_raceethnicity3'].fillna(data['p38_race3'])\n",
    "data['g20_raceethnicity4'] = data['g20_raceethnicity4'].fillna(data['p38_race4'])\n",
    "data['g20_raceethnicity5'] = data['g20_raceethnicity5'].fillna(data['p38_race5'])\n",
    "data['g20_raceethnicity6'] = data['g20_raceethnicity6'].fillna(data['p38_race6'])\n",
    "data['g20_raceethnicity7'] = data['g20_raceethnicity7'].fillna(data['p38_race7'])\n",
    "data['g20_raceethnicity8'] = data['g20_raceethnicity8'].fillna(data['p38_race8'])"
   ]
  },
  {
   "cell_type": "code",
   "execution_count": 93,
   "id": "d8b587f0",
   "metadata": {},
   "outputs": [],
   "source": [
    "data = data.drop(['p38_race1','p38_race2','p38_race3','p38_race4','p38_race5','p38_race6','p38_race7','p38_race8'], axis =1)"
   ]
  },
  {
   "cell_type": "code",
   "execution_count": 98,
   "id": "460fe95c",
   "metadata": {},
   "outputs": [
    {
     "data": {
      "text/plain": [
       "array(['Asian or Pacific Islander ', 'blackaa', 'White  ',\n",
       "       'Black or African American ', 'Hispanic or Latinx ',\n",
       "       'hispanlatinx', 'white', 'Arab or Middle Eastern ',\n",
       "       'Indigenous American, First Nation, or Alaska Native ',\n",
       "       'Other (please describe)  ', 'asian', 'I prefer not to answer ',\n",
       "       'raceeth_noans', 'araborme',\n",
       "       'Pacific Islander or Native Hawaiian ', 'raceeth_oth', 'aianfn',\n",
       "       nan, 'pinh', ' White  ', ' Arab or Middle Eastern ',\n",
       "       ' Hispanic or Latinx ', ' Black or African American ',\n",
       "       ' Other (please describe)  ', ' Asian or Pacific Islander ',\n",
       "       ' Indigenous American, First Nation, or Alaska Native ',\n",
       "       ' I prefer not to answer ',\n",
       "       ' Pacific Islander or Native Hawaiian ',\n",
       "       ' Asian or Pacific Islander [20.2', ' White  [20.7',\n",
       "       ' Other (please describe)  [20.8',\n",
       "       ' Indigenous American, First Nation, or Alaska Native [20.5',\n",
       "       ' Black or African American [20.3', ' Hispanic or Latinx [20.4',\n",
       "       ' Arab or Middle Eastern [20.1',\n",
       "       ' Pacific Islander or Native Hawaiian [20.6'], dtype=object)"
      ]
     },
     "execution_count": 98,
     "metadata": {},
     "output_type": "execute_result"
    }
   ],
   "source": [
    "all_race = pd.concat([\n",
    "    data['g20_raceethnicity1'],\n",
    "    data['g20_raceethnicity2'],\n",
    "    data['g20_raceethnicity3'],\n",
    "    data['g20_raceethnicity4'],\n",
    "    data['g20_raceethnicity5'],\n",
    "    data['g20_raceethnicity6'],\n",
    "    data['g20_raceethnicity7'],\n",
    "    data['g20_raceethnicity8']\n",
    "], ignore_index=True)\n",
    "\n",
    "all_race.unique()"
   ]
  },
  {
   "cell_type": "code",
   "execution_count": 102,
   "id": "437c2a88",
   "metadata": {},
   "outputs": [],
   "source": [
    "# Dictionary of replacements\n",
    "replacements = {\n",
    "    'Asian or Pacific Islander ': 'Asian',\n",
    "    'Asian or Pacific Islander [20.2': 'Asian',\n",
    "    ' Asian or Pacific Islander ': 'Asian',\n",
    "    ' Asian or Pacific Islander [20.2' : 'Asian',\n",
    "    ' Black or African American ' : 'Asian',\n",
    "    ' Black or African American [20.3' : 'Asian',\n",
    "    'blackaa': 'Black or African American',\n",
    "    'Black or African American ': 'Black or African American',\n",
    "    'Black or African American [20.3': 'Black or African American',\n",
    "    'White  ': 'White',\n",
    "    ' White  ': 'White',\n",
    "    ' White  [20.7': 'White',\n",
    "    'white': 'White',\n",
    "    'Hispanic or Latinx ': 'Hispanic or Latinx',\n",
    "    ' Hispanic or Latinx ': 'Hispanic or Latinx',\n",
    "    ' Hispanic or Latinx [20.4': 'Hispanic or Latinx',\n",
    "    'hispanlatinx': 'Hispanic or Latinx',\n",
    "    'Arab or Middle Eastern ': 'Arab or Middle Eastern',\n",
    "    ' Arab or Middle Eastern ': 'Arab or Middle Eastern',\n",
    "    ' Arab or Middle Eastern [20.1': 'Arab or Middle Eastern',\n",
    "    'araborme': 'Arab or Middle Eastern',\n",
    "    'Indigenous American, First Nation, or Alaska Native ': 'Indigenous American, First Nation, or Alaska Native',\n",
    "    ' Indigenous American, First Nation, or Alaska Native ': 'Indigenous American, First Nation, or Alaska Native',\n",
    "    ' Indigenous American, First Nation, or Alaska Native [20.5': 'Indigenous American, First Nation, or Alaska Native',\n",
    "    'aianfn': 'Indigenous American, First Nation, or Alaska Native',\n",
    "    'Other (please describe)  ': 'Other: please specify',\n",
    "    ' Other (please describe)  ': 'Other: please specify',\n",
    "    ' Other (please describe)  [20.8': 'Other: please specify',\n",
    "    'raceeth_oth': 'Other: please specify',\n",
    "    'asian': 'Asian',\n",
    "    'I prefer not to answer ': 'I prefer not to answer',\n",
    "    ' I prefer not to answer ': 'I prefer not to answer',\n",
    "    'raceeth_noans': 'I prefer not to answer',\n",
    "    'Pacific Islander or Native Hawaiian ': 'Pacific Islander or Native Hawaiian',\n",
    "    ' Pacific Islander or Native Hawaiian ': 'Pacific Islander or Native Hawaiian',\n",
    "    ' Pacific Islander or Native Hawaiian [20.6': 'Pacific Islander or Native Hawaiian',\n",
    "    'pinh': 'Pacific Islander or Native Hawaiian',\n",
    "}\n",
    "\n",
    "for col in ['g20_raceethnicity1','g20_raceethnicity2','g20_raceethnicity3','g20_raceethnicity4','g20_raceethnicity5','g20_raceethnicity6','g20_raceethnicity7','g20_raceethnicity8']:\n",
    "    data[col] = data[col].replace(replacements)"
   ]
  },
  {
   "cell_type": "code",
   "execution_count": 103,
   "id": "e7256a96",
   "metadata": {},
   "outputs": [
    {
     "data": {
      "text/plain": [
       "array(['Asian', 'Black or African American', 'White',\n",
       "       'Hispanic or Latinx', 'Arab or Middle Eastern',\n",
       "       'Indigenous American, First Nation, or Alaska Native',\n",
       "       'Other: please specify', 'I prefer not to answer',\n",
       "       'Pacific Islander or Native Hawaiian', nan], dtype=object)"
      ]
     },
     "execution_count": 103,
     "metadata": {},
     "output_type": "execute_result"
    }
   ],
   "source": [
    "all_race = pd.concat([\n",
    "    data['g20_raceethnicity1'],\n",
    "    data['g20_raceethnicity2'],\n",
    "    data['g20_raceethnicity3'],\n",
    "    data['g20_raceethnicity4'],\n",
    "    data['g20_raceethnicity5'],\n",
    "    data['g20_raceethnicity6'],\n",
    "    data['g20_raceethnicity7'],\n",
    "    data['g20_raceethnicity8']\n",
    "], ignore_index=True)\n",
    "\n",
    "all_race.unique()"
   ]
  },
  {
   "cell_type": "code",
   "execution_count": 104,
   "id": "473b5954",
   "metadata": {},
   "outputs": [
    {
     "name": "stdout",
     "output_type": "stream",
     "text": [
      "{'Asian': 2940, 'Black or African American': 6407, 'White': 9118, 'Hispanic or Latinx': 5066, 'Arab or Middle Eastern': 768, 'Indigenous American, First Nation, or Alaska Native': 1149, 'Other: please specify': 1623, 'I prefer not to answer': 1289, 'Pacific Islander or Native Hawaiian': 128}\n"
     ]
    }
   ],
   "source": [
    "# Define the gender categories\n",
    "categories = [\n",
    "    \"Asian\",\n",
    "    \"Black or African American\",\n",
    "    \"White\",\n",
    "    \"Hispanic or Latinx\",\n",
    "    \"Arab or Middle Eastern\",\n",
    "    \"Indigenous American, First Nation, or Alaska Native\",\n",
    "    \"Other: please specify\",\n",
    "    \"I prefer not to answer\",\n",
    "    \"Pacific Islander or Native Hawaiian\"\n",
    "]\n",
    "\n",
    "# Initialize a dictionary to hold the counts for each category\n",
    "category_counts = {category: 0 for category in categories}\n",
    "\n",
    "# List of gender columns\n",
    "race_columns = ['g20_raceethnicity1', 'g20_raceethnicity2', 'g20_raceethnicity3', 'g20_raceethnicity4', 'g20_raceethnicity5','g20_raceethnicity6','g20_raceethnicity7','g20_raceethnicity8']\n",
    "\n",
    "# Iterate through the DataFrame rows\n",
    "for index, row in data.iterrows():\n",
    "    seen_categories = set()  # Track seen categories for this row\n",
    "    for column in race_columns:\n",
    "        cell_value = row[column]\n",
    "        # Ensure cell_value is a string\n",
    "        if pd.notnull(cell_value):\n",
    "            cell_value = str(cell_value).strip().title()\n",
    "            for category in categories:\n",
    "                # Check if the cell contains the category, considering only unseen categories\n",
    "                if category.title() == cell_value and category not in seen_categories:\n",
    "                    category_counts[category] += 1\n",
    "                    seen_categories.add(category)  # Mark the category as seen\n",
    "\n",
    "print(category_counts)"
   ]
  },
  {
   "cell_type": "markdown",
   "id": "bb30fa9e",
   "metadata": {},
   "source": [
    "### Language"
   ]
  },
  {
   "cell_type": "code",
   "execution_count": 105,
   "id": "3eae3364",
   "metadata": {},
   "outputs": [],
   "source": [
    "data['g22_language'] = data['g22_language'].fillna(data['p40_language'])"
   ]
  },
  {
   "cell_type": "code",
   "execution_count": 106,
   "id": "efbb69c9",
   "metadata": {},
   "outputs": [],
   "source": [
    "data = data.drop(['p40_language'], axis =1)"
   ]
  },
  {
   "cell_type": "code",
   "execution_count": 110,
   "id": "25167ac6",
   "metadata": {},
   "outputs": [
    {
     "data": {
      "text/plain": [
       "array(['English', 'Spanish', 'Other (please describe)',\n",
       "       'Mandarin or Cantonese', 'Polish', 'Russian', 'Korean', 'Bengali',\n",
       "       'Arabic', 'I prefer not to answer', 'Italian', nan,\n",
       "       'Haitian Creole', 'Yiddish'], dtype=object)"
      ]
     },
     "execution_count": 110,
     "metadata": {},
     "output_type": "execute_result"
    }
   ],
   "source": [
    "data['g22_language'] = data['g22_language'].str.strip()\n",
    "data['g22_language'] = data['g22_language'].replace('Other (please describe):','Other (please describe)')\n",
    "data['g22_language'] = data['g22_language'].replace('Prefer not to answer','I prefer not to answer')\n",
    "data['g22_language'].unique()"
   ]
  },
  {
   "cell_type": "code",
   "execution_count": 111,
   "id": "34b0cd47",
   "metadata": {},
   "outputs": [
    {
     "name": "stdout",
     "output_type": "stream",
     "text": [
      "{'English': 20892, 'Spanish': 1144, 'Other (please describe)': 753, 'Mandarin or Cantonese': 353, 'Polish': 28, 'Russian': 103, 'Korean': 104, 'Bengali': 15, 'Arabic': 38, 'I prefer not to answer': 33, 'Italian': 74, 'Haitian Creole': 32, 'Yiddish': 4}\n"
     ]
    }
   ],
   "source": [
    "categories = [\n",
    "    \"English\",\n",
    "    \"Spanish\",\n",
    "    \"Other (please describe)\",\n",
    "    \"Mandarin or Cantonese\",\n",
    "    \"Polish\",\n",
    "    \"Russian\",\n",
    "    \"Korean\",\n",
    "    \"Bengali\",\n",
    "    \"Arabic\",\n",
    "    \"I prefer not to answer\",\n",
    "    \"Italian\",\n",
    "    \"Haitian Creole\",\n",
    "    \"Yiddish\"\n",
    "]\n",
    "\n",
    "# Initialize a dictionary to hold the counts for each category\n",
    "category_counts = {category: 0 for category in categories}\n",
    "\n",
    "# List of gender columns\n",
    "language_columns = ['g22_language']\n",
    "\n",
    "# Iterate through the DataFrame rows\n",
    "for index, row in data.iterrows():\n",
    "    seen_categories = set()  # Track seen categories for this row\n",
    "    for column in language_columns:\n",
    "        cell_value = row[column]\n",
    "        # Ensure cell_value is a string\n",
    "        if pd.notnull(cell_value):\n",
    "            cell_value = str(cell_value).strip().title()\n",
    "            for category in categories:\n",
    "                # Check if the cell contains the category, considering only unseen categories\n",
    "                if category.title() == cell_value and category not in seen_categories:\n",
    "                    category_counts[category] += 1\n",
    "                    seen_categories.add(category)  # Mark the category as seen\n",
    "\n",
    "print(category_counts)"
   ]
  },
  {
   "cell_type": "markdown",
   "id": "4839a9e6",
   "metadata": {},
   "source": [
    "### County"
   ]
  },
  {
   "cell_type": "code",
   "execution_count": 112,
   "id": "d7584dea",
   "metadata": {},
   "outputs": [],
   "source": [
    "data['g16_county'] = data['g16_county'].fillna(data['p34_county'])"
   ]
  },
  {
   "cell_type": "code",
   "execution_count": 113,
   "id": "adc7a287",
   "metadata": {},
   "outputs": [],
   "source": [
    "data = data.drop(['p34_county'], axis =1)"
   ]
  },
  {
   "cell_type": "code",
   "execution_count": 115,
   "id": "4c6ca65d",
   "metadata": {},
   "outputs": [
    {
     "data": {
      "text/plain": [
       "array(['Erie County', 'Bronx County', 'New York County (Manhattan)',\n",
       "       'Kings County (Brooklyn)', 'Queens County', 'Broome County',\n",
       "       'Ulster County', 'Suffolk County', 'Albany County',\n",
       "       'Greene County', 'Monroe County', 'Saratoga County', nan,\n",
       "       'Nassau County', 'Oneida County', 'Orange County',\n",
       "       'Rensselaer County', 'Columbia County', 'Cayuga County',\n",
       "       'Herkimer County', 'Westchester County', 'Tompkins County',\n",
       "       'Onondaga County', 'Dutchess County', 'Putnam County',\n",
       "       'Oswego County', 'Warren County', 'Otsego County',\n",
       "       'Franklin County', 'Rockland County',\n",
       "       'Richmond County (Staten Island)', 'Allegany County',\n",
       "       'Essex County', 'Niagara County', 'Wyoming County',\n",
       "       'Clinton County', 'Chemung County', 'Ontario County',\n",
       "       'Washington County', 'St. Lawrence County', 'Jefferson County',\n",
       "       'Cattaraugus County', 'Wayne County', 'Seneca County',\n",
       "       'Sullivan County', 'Delaware County', 'Chautauqua County',\n",
       "       'Genesee County', 'Montgomery County', 'Livingston County',\n",
       "       'Schuyler County', 'Schenectady County', 'Chenango County',\n",
       "       'Orleans County', 'Cortland County', 'Fulton County',\n",
       "       'Steuben County', 'Schoharie County', 'Madison County',\n",
       "       'Tioga County', 'Lewis County', 'Yates County', 'Hamilton County'],\n",
       "      dtype=object)"
      ]
     },
     "execution_count": 115,
     "metadata": {},
     "output_type": "execute_result"
    }
   ],
   "source": [
    "data['g16_county'] = data['g16_county'].str.strip()\n",
    "data['g16_county'].unique()"
   ]
  },
  {
   "cell_type": "code",
   "execution_count": 116,
   "id": "443ccc50",
   "metadata": {},
   "outputs": [
    {
     "name": "stdout",
     "output_type": "stream",
     "text": [
      "{'Erie County': 366, 'Bronx County': 1525, 'New York County (Manhattan)': 5660, 'Kings County (Brooklyn)': 8462, 'Queens County': 2951, 'Broome County': 80, 'Ulster County': 379, 'Suffolk County': 363, 'Albany County': 161, 'Greene County': 45, 'Monroe County': 423, 'Saratoga County': 76, 'Nassau County': 377, 'Oneida County': 47, 'Orange County': 160, 'Rensselaer County': 90, 'Columbia County': 94, 'Cayuga County': 22, 'Herkimer County': 16, 'Westchester County': 415, 'Tompkins County': 144, 'Onondaga County': 208, 'Dutchess County': 229, 'Putnam County': 44, 'Oswego County': 26, 'Warren County': 21, 'Otsego County': 34, 'Franklin County': 60, 'Rockland County': 91, 'Richmond County (Staten Island)': 269, 'Allegany County': 21, 'Essex County': 19, 'Niagara County': 48, 'Wyoming County': 5, 'Clinton County': 20, 'Chemung County': 36, 'Ontario County': 35, 'Washington County': 14, 'St. Lawrence County': 59, 'Jefferson County': 30, 'Cattaraugus County': 26, 'Wayne County': 14, 'Seneca County': 12, 'Sullivan County': 39, 'Delaware County': 51, 'Chautauqua County': 60, 'Genesee County': 13, 'Montgomery County': 14, 'Livingston County': 20, 'Schuyler County': 14, 'Schenectady County': 39, 'Chenango County': 20, 'Orleans County': 2, 'Cortland County': 18, 'Fulton County': 8, 'Steuben County': 40, 'Schoharie County': 9, 'Madison County': 17, 'Tioga County': 10, 'Lewis County': 3, 'Yates County': 5, 'Hamilton County': 1}\n"
     ]
    }
   ],
   "source": [
    "categories = [\n",
    "    'Erie County', 'Bronx County', 'New York County (Manhattan)', 'Kings County (Brooklyn)',\n",
    "    'Queens County', 'Broome County', 'Ulster County', 'Suffolk County', 'Albany County',\n",
    "    'Greene County', 'Monroe County', 'Saratoga County', 'Nassau County', 'Oneida County',\n",
    "    'Orange County', 'Rensselaer County', 'Columbia County', 'Cayuga County', 'Herkimer County',\n",
    "    'Westchester County', 'Tompkins County', 'Onondaga County', 'Dutchess County', 'Putnam County',\n",
    "    'Oswego County', 'Warren County', 'Otsego County', 'Franklin County', 'Rockland County',\n",
    "    'Richmond County (Staten Island)', 'Allegany County', 'Essex County', 'Niagara County',\n",
    "    'Wyoming County', 'Clinton County', 'Chemung County', 'Ontario County', 'Washington County',\n",
    "    'St. Lawrence County', 'Jefferson County', 'Cattaraugus County', 'Wayne County', 'Seneca County',\n",
    "    'Sullivan County', 'Delaware County', 'Chautauqua County', 'Genesee County', 'Montgomery County',\n",
    "    'Livingston County', 'Schuyler County', 'Schenectady County', 'Chenango County', 'Orleans County',\n",
    "    'Cortland County', 'Fulton County', 'Steuben County', 'Schoharie County', 'Madison County',\n",
    "    'Tioga County', 'Lewis County', 'Yates County', 'Hamilton County'\n",
    "]\n",
    "\n",
    "# Initialize a dictionary to hold the counts for each category\n",
    "category_counts = {category: 0 for category in categories}\n",
    "\n",
    "# List of gender columns\n",
    "county_columns = ['g16_county']\n",
    "\n",
    "# Iterate through the DataFrame rows\n",
    "for index, row in data.iterrows():\n",
    "    seen_categories = set()  # Track seen categories for this row\n",
    "    for column in county_columns:\n",
    "        cell_value = row[column]\n",
    "        # Ensure cell_value is a string\n",
    "        if pd.notnull(cell_value):\n",
    "            cell_value = str(cell_value).strip().title()\n",
    "            for category in categories:\n",
    "                # Check if the cell contains the category, considering only unseen categories\n",
    "                if category.title() == cell_value and category not in seen_categories:\n",
    "                    category_counts[category] += 1\n",
    "                    seen_categories.add(category)  # Mark the category as seen\n",
    "\n",
    "print(category_counts)"
   ]
  },
  {
   "cell_type": "markdown",
   "id": "b6789e96",
   "metadata": {},
   "source": [
    "### Region "
   ]
  },
  {
   "cell_type": "code",
   "execution_count": 118,
   "id": "5e286738",
   "metadata": {},
   "outputs": [],
   "source": [
    "data['g17_region'] = data['g17_region'].fillna(data['p35_region'])"
   ]
  },
  {
   "cell_type": "code",
   "execution_count": 119,
   "id": "05e90308",
   "metadata": {},
   "outputs": [],
   "source": [
    "data = data.drop(['p35_region'], axis =1)"
   ]
  },
  {
   "cell_type": "code",
   "execution_count": 122,
   "id": "ed6465eb",
   "metadata": {},
   "outputs": [
    {
     "data": {
      "text/plain": [
       "array(['Western New York', 'New York City', 'Southern Tier', 'Mid-Hudson',\n",
       "       'Long Island', 'Capital Region', 'Finger Lakes', nan,\n",
       "       'Mohawk Valley', 'Central New York', 'North Country'], dtype=object)"
      ]
     },
     "execution_count": 122,
     "metadata": {},
     "output_type": "execute_result"
    }
   ],
   "source": [
    "data['g17_region'] = data['g17_region'].str.strip()\n",
    "data['g17_region'] = data['g17_region'].replace('Western New Yorkâ€¯','Western New York')\n",
    "data['g17_region'].unique()"
   ]
  },
  {
   "cell_type": "code",
   "execution_count": 124,
   "id": "8dadb71a",
   "metadata": {},
   "outputs": [
    {
     "name": "stdout",
     "output_type": "stream",
     "text": [
      "{'Western New York': 521, 'New York City': 18865, 'Southern Tier': 428, 'Mid-Hudson': 1347, 'Long Island': 735, 'Capital Region': 540, 'Finger Lakes': 528, 'Mohawk Valley': 95, 'Central New York': 291, 'North Country': 191}\n"
     ]
    }
   ],
   "source": [
    "categories = [\n",
    "    'Western New York', 'New York City', 'Southern Tier', 'Mid-Hudson',\n",
    "       'Long Island', 'Capital Region', 'Finger Lakes',\n",
    "       'Mohawk Valley', 'Central New York', 'North Country'\n",
    "]\n",
    "\n",
    "# Initialize a dictionary to hold the counts for each category\n",
    "category_counts = {category: 0 for category in categories}\n",
    "\n",
    "# List of gender columns\n",
    "region_columns = ['g17_region']\n",
    "\n",
    "# Iterate through the DataFrame rows\n",
    "for index, row in data.iterrows():\n",
    "    seen_categories = set()  # Track seen categories for this row\n",
    "    for column in region_columns:\n",
    "        cell_value = row[column]\n",
    "        # Ensure cell_value is a string\n",
    "        if pd.notnull(cell_value):\n",
    "            cell_value = str(cell_value).strip().title()\n",
    "            for category in categories:\n",
    "                # Check if the cell contains the category, considering only unseen categories\n",
    "                if category.title() == cell_value and category not in seen_categories:\n",
    "                    category_counts[category] += 1\n",
    "                    seen_categories.add(category)  # Mark the category as seen\n",
    "\n",
    "print(category_counts)"
   ]
  },
  {
   "cell_type": "markdown",
   "id": "718b498c",
   "metadata": {},
   "source": [
    "### Community"
   ]
  },
  {
   "cell_type": "code",
   "execution_count": 126,
   "id": "cb453646",
   "metadata": {},
   "outputs": [],
   "source": [
    "data['g18_community'] = data['g18_community'].fillna(data['p36_community'])"
   ]
  },
  {
   "cell_type": "code",
   "execution_count": 127,
   "id": "71fd9e2c",
   "metadata": {},
   "outputs": [],
   "source": [
    "data = data.drop(['p36_community'], axis =1)"
   ]
  },
  {
   "cell_type": "code",
   "execution_count": 128,
   "id": "54a39d00",
   "metadata": {},
   "outputs": [
    {
     "data": {
      "text/plain": [
       "array(['Urban', 'Rural', 'Suburban', nan, 'Tribal'], dtype=object)"
      ]
     },
     "execution_count": 128,
     "metadata": {},
     "output_type": "execute_result"
    }
   ],
   "source": [
    "data['g18_community'] = data['g18_community'].str.strip()\n",
    "data['g18_community'].unique()"
   ]
  },
  {
   "cell_type": "code",
   "execution_count": 129,
   "id": "f8ec2b26",
   "metadata": {},
   "outputs": [
    {
     "name": "stdout",
     "output_type": "stream",
     "text": [
      "{'Urban': 19429, 'Rural': 1531, 'Suburban': 2492, 'Tribal': 117}\n"
     ]
    }
   ],
   "source": [
    "categories = [\n",
    " 'Urban', 'Rural', 'Suburban','Tribal'\n",
    "]\n",
    "\n",
    "# Initialize a dictionary to hold the counts for each category\n",
    "category_counts = {category: 0 for category in categories}\n",
    "\n",
    "# List of gender columns\n",
    "community_columns = ['g18_community']\n",
    "\n",
    "# Iterate through the DataFrame rows\n",
    "for index, row in data.iterrows():\n",
    "    seen_categories = set()  # Track seen categories for this row\n",
    "    for column in community_columns:\n",
    "        cell_value = row[column]\n",
    "        # Ensure cell_value is a string\n",
    "        if pd.notnull(cell_value):\n",
    "            cell_value = str(cell_value).strip().title()\n",
    "            for category in categories:\n",
    "                # Check if the cell contains the category, considering only unseen categories\n",
    "                if category.title() == cell_value and category not in seen_categories:\n",
    "                    category_counts[category] += 1\n",
    "                    seen_categories.add(category)  # Mark the category as seen\n",
    "\n",
    "print(category_counts)"
   ]
  },
  {
   "cell_type": "markdown",
   "id": "5e7f2e2e",
   "metadata": {},
   "source": [
    "### Discipline"
   ]
  },
  {
   "cell_type": "code",
   "execution_count": 130,
   "id": "8cb537cd",
   "metadata": {},
   "outputs": [],
   "source": [
    "data['g30_discipline1'] = data['g30_discipline1'].fillna(data['p1_discipline1'])\n",
    "data['g30_discipline2'] = data['g30_discipline2'].fillna(data['p1_discipline2'])\n",
    "data['g30_discipline3'] = data['g30_discipline3'].fillna(data['p1_discipline3'])"
   ]
  },
  {
   "cell_type": "code",
   "execution_count": 132,
   "id": "1a250201",
   "metadata": {},
   "outputs": [],
   "source": [
    "data = data.drop(['p1_discipline1','p1_discipline2','p1_discipline3'], axis =1)"
   ]
  },
  {
   "cell_type": "code",
   "execution_count": 136,
   "id": "fcb7d89f",
   "metadata": {},
   "outputs": [],
   "source": [
    "data['g30_discipline1'] = data['g30_discipline1'].str.strip()\n",
    "data['g30_discipline2'] = data['g30_discipline2'].str.strip()\n",
    "data['g30_discipline2'] = data['g30_discipline3'].str.strip()\n"
   ]
  },
  {
   "cell_type": "code",
   "execution_count": 146,
   "id": "795ac7c1",
   "metadata": {},
   "outputs": [],
   "source": [
    "replacements = {\n",
    "    'Crafts' : 'Craft',\n",
    "    '(blank)' : 'null',\n",
    "    'Design  ': 'Design',\n",
    "    'Media Arts  ': 'Media Arts',\n",
    "    'Visual Arts  ': 'Visual Arts',\n",
    "    'Performance Art  ':'Performance Art',\n",
    "    'Music  ': 'Music',\n",
    "    'Interdisciplinary Arts  ':'Interdisciplinary Arts',\n",
    "    'Literary Arts  ': 'Literary Arts',\n",
    "    'Social Practice  ' : 'Social Practice',\n",
    "    'Traditional Arts  ':'Traditional Arts',\n",
    "    'Craft  ':'Craft',\n",
    "    'Theater  ':'Theater',\n",
    "    'Film  ':'Film',\n",
    "    'Oral Traditions  ':'Oral Traditions',\n",
    "    'Dance  ': 'Dance',\n",
    "}\n",
    "\n",
    "for col in ['g30_discipline1','g30_discipline2','g30_discipline3']:\n",
    "    data[col] = data[col].replace(replacements)"
   ]
  },
  {
   "cell_type": "code",
   "execution_count": 147,
   "id": "a8755744",
   "metadata": {},
   "outputs": [
    {
     "data": {
      "text/plain": [
       "array(['Visual Arts', 'Interdisciplinary Arts', 'Theater', 'Film',\n",
       "       'Music', 'Media Arts', 'Craft', 'Literary Arts', 'Design', 'Dance',\n",
       "       'Traditional Arts', 'Social Practice', 'Performance Art',\n",
       "       'Oral Traditions', nan, ''], dtype=object)"
      ]
     },
     "execution_count": 147,
     "metadata": {},
     "output_type": "execute_result"
    }
   ],
   "source": [
    "all_discipline = pd.concat([\n",
    "    data['g30_discipline1'],\n",
    "    data['g30_discipline2'],\n",
    "    data['g30_discipline3']\n",
    "], ignore_index=True)\n",
    "\n",
    "all_discipline.unique()"
   ]
  },
  {
   "cell_type": "code",
   "execution_count": 248,
   "id": "c79a47eb",
   "metadata": {},
   "outputs": [
    {
     "name": "stdout",
     "output_type": "stream",
     "text": [
      "{'Visual Arts': 7067, 'Interdisciplinary Arts': 2466, 'Theater': 2845, 'Film': 3266, 'Music': 6424, 'Media Arts': 2487, 'Craft': 2266, 'Literary Arts': 2353, 'Design': 2325, 'Dance': 1728, 'Traditional Arts': 833, 'Social Practice': 1322, 'Performance Art': 1996, 'Oral Traditions': 437}\n"
     ]
    }
   ],
   "source": [
    "# Define the gender categories\n",
    "categories = [\n",
    " 'Visual Arts', 'Interdisciplinary Arts', 'Theater', 'Film',\n",
    "       'Music', 'Media Arts', 'Craft', 'Literary Arts', 'Design', 'Dance',\n",
    "       'Traditional Arts', 'Social Practice', 'Performance Art',\n",
    "       'Oral Traditions'\n",
    "]\n",
    "\n",
    "# Initialize a dictionary to hold the counts for each category\n",
    "category_counts = {category: 0 for category in categories}\n",
    "\n",
    "# List of gender columns\n",
    "discipline_columns = ['g30_discipline1', 'g30_discipline2', 'g30_discipline3']\n",
    "\n",
    "# Iterate through the DataFrame rows\n",
    "for index, row in data.iterrows():\n",
    "    seen_categories = set()  # Track seen categories for this row\n",
    "    for column in discipline_columns:\n",
    "        cell_value = row[column]\n",
    "        # Ensure cell_value is a string\n",
    "        if pd.notnull(cell_value):\n",
    "            cell_value = str(cell_value).strip().title()\n",
    "            for category in categories:\n",
    "                # Check if the cell contains the category, considering only unseen categories\n",
    "                if category.title() == cell_value and category not in seen_categories:\n",
    "                    category_counts[category] += 1\n",
    "                    seen_categories.add(category)  # Mark the category as seen\n",
    "\n",
    "print(category_counts)"
   ]
  },
  {
   "cell_type": "markdown",
   "id": "e324863a",
   "metadata": {},
   "source": [
    "### Art Practice"
   ]
  },
  {
   "cell_type": "code",
   "execution_count": 149,
   "id": "65174505",
   "metadata": {},
   "outputs": [],
   "source": [
    "data['g31_approach1'] = data['g31_approach1'].fillna(data['p2_approachtopractice1'])\n",
    "data['g31_approach2'] = data['g31_approach2'].fillna(data['p2_approachtopractice2'])\n",
    "data['g31_approach3'] = data['g31_approach3'].fillna(data['p2_approachtopractice3'])\n",
    "data['g31_approach4'] = data['g31_approach4'].fillna(data['p2_approachtopractice4'])\n",
    "data['g31_approach5'] = data['g31_approach5'].fillna(data['p2_approachtopractice5'])\n",
    "data['g31_approach6'] = data['g31_approach6'].fillna(data['p2_approachtopractice6'])"
   ]
  },
  {
   "cell_type": "code",
   "execution_count": 150,
   "id": "ff13894f",
   "metadata": {},
   "outputs": [],
   "source": [
    "data = data.drop(['p2_approachtopractice1','p2_approachtopractice2','p2_approachtopractice3','p2_approachtopractice4','p2_approachtopractice5','p2_approachtopractice6'], axis =1)"
   ]
  },
  {
   "cell_type": "code",
   "execution_count": 152,
   "id": "2214bc23",
   "metadata": {},
   "outputs": [],
   "source": [
    "data['g31_approach1'] = data['g31_approach1'].str.strip()\n",
    "data['g31_approach2'] = data['g31_approach2'].str.strip()\n",
    "data['g31_approach3'] = data['g31_approach3'].str.strip()\n",
    "data['g31_approach4'] = data['g31_approach4'].str.strip()\n",
    "data['g31_approach5'] = data['g31_approach5'].str.strip()\n",
    "data['g31_approach6'] = data['g31_approach6'].str.strip()"
   ]
  },
  {
   "cell_type": "code",
   "execution_count": 155,
   "id": "3c798c9d",
   "metadata": {},
   "outputs": [
    {
     "data": {
      "text/plain": [
       "array(['I work as a solo artist.',\n",
       "       'I collaborate regularly with other artists.',\n",
       "       'Performing, presenting, or exhibiting to an audience or viewers is core to my practice.',\n",
       "       'Teaching or educating others is core to my practice.',\n",
       "       'My practice requires public or community involvement to have meaning.',\n",
       "       'I collaborate regularly with other non-arts practitioners.', nan],\n",
       "      dtype=object)"
      ]
     },
     "execution_count": 155,
     "metadata": {},
     "output_type": "execute_result"
    }
   ],
   "source": [
    "all_approach = pd.concat([\n",
    "    data['g31_approach1'],\n",
    "    data['g31_approach2'],\n",
    "    data['g31_approach3'],\n",
    "    data['g31_approach4'],\n",
    "    data['g31_approach5'],\n",
    "    data['g31_approach6']\n",
    "], ignore_index=True)\n",
    "\n",
    "all_approach.unique()"
   ]
  },
  {
   "cell_type": "code",
   "execution_count": 154,
   "id": "35466f1d",
   "metadata": {},
   "outputs": [],
   "source": [
    "replacements = {\n",
    "    'collab_artists' : 'I collaborate regularly with other artists.',\n",
    "    'solo_artist' : 'I work as a solo artist.',\n",
    "    'public_involvement': 'My practice requires public or community involvement to have meaning.',\n",
    "    'collab_nonartists':  'I collaborate regularly with other non-arts practitioners.',\n",
    "    'teaching_others': 'Teaching or educating others is core to my practice.',\n",
    "    'perform_present_exhibit':'Performing, presenting, or exhibiting to an audience or viewers is core to my practice.'\n",
    "}\n",
    "\n",
    "for col in ['g31_approach1','g31_approach2','g31_approach3','g31_approach4','g31_approach5','g31_approach6']:\n",
    "    data[col] = data[col].replace(replacements)"
   ]
  },
  {
   "cell_type": "code",
   "execution_count": 157,
   "id": "5b62d760",
   "metadata": {},
   "outputs": [
    {
     "name": "stdout",
     "output_type": "stream",
     "text": [
      "{'I work as a solo artist.': 19964, 'I collaborate regularly with other artists.': 16344, 'Performing, presenting, or exhibiting to an audience or viewers is core to my practice.': 14825, 'Teaching or educating others is core to my practice.': 10327, 'My practice requires public or community involvement to have meaning.': 10528, 'I collaborate regularly with other non-arts practitioners.': 7460}\n"
     ]
    }
   ],
   "source": [
    "# Define the gender categories\n",
    "approach_categories = ['I work as a solo artist.',\n",
    "       'I collaborate regularly with other artists.',\n",
    "       'Performing, presenting, or exhibiting to an audience or viewers is core to my practice.',\n",
    "       'Teaching or educating others is core to my practice.',\n",
    "       'My practice requires public or community involvement to have meaning.',\n",
    "       'I collaborate regularly with other non-arts practitioners.'\n",
    "]\n",
    "\n",
    "# Initialize a dictionary to hold the counts for each category\n",
    "approach_category_counts = {category: 0 for category in approach_categories}\n",
    "\n",
    "# List of gender columns\n",
    "approach_columns = ['g31_approach1','g31_approach2','g31_approach3','g31_approach4','g31_approach5','g31_approach6']\n",
    "\n",
    "# Iterate through the DataFrame rows\n",
    "for index, row in data.iterrows():\n",
    "    seen_categories = set()  # Track seen categories for this row\n",
    "    for column in approach_columns:\n",
    "        cell_value = row[column]\n",
    "        # Ensure cell_value is a string\n",
    "        if pd.notnull(cell_value):\n",
    "            cell_value = str(cell_value).strip().title()\n",
    "            for category in categories:\n",
    "                # Check if the cell contains the category, considering only unseen categories\n",
    "                if category.title() == cell_value and category not in seen_categories:\n",
    "                    category_counts[category] += 1\n",
    "                    seen_categories.add(category)  # Mark the category as seen\n",
    "\n",
    "print(approach_category_counts)"
   ]
  },
  {
   "cell_type": "markdown",
   "id": "083a0c4d",
   "metadata": {},
   "source": [
    "### Energy Management"
   ]
  },
  {
   "cell_type": "code",
   "execution_count": 159,
   "id": "0fefc456",
   "metadata": {},
   "outputs": [
    {
     "data": {
      "text/plain": [
       "{'1 – no energy': 32,\n",
       " '3 – my energy fluctuates': 574,\n",
       " '2 – very low energy': 185,\n",
       " '5 – more than enough energy': 241,\n",
       " '4 – sufficient energy': 256}"
      ]
     },
     "execution_count": 159,
     "metadata": {},
     "output_type": "execute_result"
    }
   ],
   "source": [
    "amountofenergy = 'p5_amountofenergy'  # Remove the square brackets as they are not needed\n",
    "\n",
    "categories = [\n",
    "    \"1 – no energy\",\n",
    "    \"3 – my energy fluctuates\",\n",
    "    \"2 – very low energy\",\n",
    "    \"5 – more than enough energy\",\n",
    "    \"4 – sufficient energy\"]\n",
    "\n",
    "# Initialize a dictionary to hold the counts for each category\n",
    "category_counts = {category: 0 for category in categories}\n",
    "\n",
    "# Iterate through the dataset and count occurrences of each category\n",
    "for category in categories:\n",
    "    category_counts[category] = data[data['g_enrollmentstatus'] == 'Enrolled'][amountofenergy].str.contains(category, case=False, na=False).sum()\n",
    "\n",
    "category_counts"
   ]
  },
  {
   "cell_type": "code",
   "execution_count": 162,
   "id": "610f269f",
   "metadata": {},
   "outputs": [
    {
     "data": {
      "text/plain": [
       "{'1 – no energy': 189,\n",
       " '3 – my energy fluctuates': 5144,\n",
       " '2 – very low energy': 1500,\n",
       " '5 – more than enough energy': 2417,\n",
       " '4 – sufficient energy': 2398}"
      ]
     },
     "execution_count": 162,
     "metadata": {},
     "output_type": "execute_result"
    }
   ],
   "source": [
    "amountofenergy = 'p5_amountofenergy'  # Remove the square brackets as they are not needed\n",
    "\n",
    "categories = [\n",
    "    \"1 – no energy\",\n",
    "    \"3 – my energy fluctuates\",\n",
    "    \"2 – very low energy\",\n",
    "    \"5 – more than enough energy\",\n",
    "    \"4 – sufficient energy\"]\n",
    "\n",
    "# Initialize a dictionary to hold the counts for each category\n",
    "category_counts = {category: 0 for category in categories}\n",
    "\n",
    "# Iterate through the dataset and count occurrences of each category\n",
    "for category in categories:\n",
    "    category_counts[category] = data[data['g_enrollmentstatus']!= 'Enrolled'][amountofenergy].str.contains(category, case=False, na=False).sum()\n",
    "\n",
    "category_counts"
   ]
  },
  {
   "cell_type": "markdown",
   "id": "5338084d",
   "metadata": {},
   "source": [
    "### Time Management\n"
   ]
  },
  {
   "cell_type": "code",
   "execution_count": 163,
   "id": "3ddd94f2",
   "metadata": {},
   "outputs": [
    {
     "data": {
      "text/plain": [
       "{'2 – very little time': 241,\n",
       " '5 – more than enough time': 204,\n",
       " '4 – sufficient time': 292,\n",
       " '3 – my time fluctuates': 536,\n",
       " '1 – no time at all': 14}"
      ]
     },
     "execution_count": 163,
     "metadata": {},
     "output_type": "execute_result"
    }
   ],
   "source": [
    "amountoftime = 'p6_amountoftime'  # Remove the square brackets as they are not needed\n",
    "\n",
    "categories = [\n",
    "    \"2 – very little time\",\n",
    "    \"5 – more than enough time\",\n",
    "    \"4 – sufficient time\",\n",
    "    \"3 – my time fluctuates\",\n",
    "    \"1 – no time at all\"]\n",
    "\n",
    "# Initialize a dictionary to hold the counts for each category\n",
    "category_counts = {category: 0 for category in categories}\n",
    "\n",
    "# Iterate through the dataset and count occurrences of each category\n",
    "for category in categories:\n",
    "    category_counts[category] = data[data['g_enrollmentstatus'] == 'Enrolled'][amountoftime].str.contains(category, case=False, na=False).sum()\n",
    "\n",
    "category_counts"
   ]
  },
  {
   "cell_type": "code",
   "execution_count": 164,
   "id": "977e0781",
   "metadata": {},
   "outputs": [
    {
     "data": {
      "text/plain": [
       "{'2 – very little time': 2009,\n",
       " '5 – more than enough time': 1859,\n",
       " '4 – sufficient time': 2712,\n",
       " '3 – my time fluctuates': 4851,\n",
       " '1 – no time at all': 192}"
      ]
     },
     "execution_count": 164,
     "metadata": {},
     "output_type": "execute_result"
    }
   ],
   "source": [
    "amountoftime = 'p6_amountoftime'  # Remove the square brackets as they are not needed\n",
    "\n",
    "categories = [\n",
    "    \"2 – very little time\",\n",
    "    \"5 – more than enough time\",\n",
    "    \"4 – sufficient time\",\n",
    "    \"3 – my time fluctuates\",\n",
    "    \"1 – no time at all\"]\n",
    "\n",
    "# Initialize a dictionary to hold the counts for each category\n",
    "category_counts = {category: 0 for category in categories}\n",
    "\n",
    "# Iterate through the dataset and count occurrences of each category\n",
    "for category in categories:\n",
    "    category_counts[category] = data[data['g_enrollmentstatus'] != 'Enrolled'][amountoftime].str.contains(category, case=False, na=False).sum()\n",
    "\n",
    "category_counts"
   ]
  },
  {
   "cell_type": "markdown",
   "id": "911c6dbb",
   "metadata": {},
   "source": [
    "### Financial Safety Net"
   ]
  },
  {
   "cell_type": "code",
   "execution_count": 167,
   "id": "d4921251",
   "metadata": {},
   "outputs": [],
   "source": [
    "data['g29_financialsafetynet1'] = data['g29_financialsafetynet1'].str.strip()\n",
    "data['g29_financialsafetynet2'] = data['g29_financialsafetynet2'].str.strip()\n",
    "data['g29_financialsafetynet3'] = data['g29_financialsafetynet3'].str.strip()\n",
    "data['g29_financialsafetynet4'] = data['g29_financialsafetynet4'].str.strip()"
   ]
  },
  {
   "cell_type": "code",
   "execution_count": 168,
   "id": "035d0df8",
   "metadata": {},
   "outputs": [
    {
     "data": {
      "text/plain": [
       "array(['I have no financial safety net (savings, assets, family resources)',\n",
       "       nan, 'None of the above', 'I am vulnerable to a medical emergency',\n",
       "       'I am unsure when I will make any income again',\n",
       "       'I have unmanageable debt (financial obligations not paid in full each month like credit cards, personal loans, payday loans or short-term debt, student loan debt, housing debt, automobile loan, other)'],\n",
       "      dtype=object)"
      ]
     },
     "execution_count": 168,
     "metadata": {},
     "output_type": "execute_result"
    }
   ],
   "source": [
    "all_financialsafetynet = pd.concat([\n",
    "    data['g29_financialsafetynet1'],\n",
    "    data['g29_financialsafetynet2'],\n",
    "    data['g29_financialsafetynet3'],\n",
    "    data['g29_financialsafetynet4']\n",
    "], ignore_index=True)\n",
    "\n",
    "all_financialsafetynet.unique()"
   ]
  },
  {
   "cell_type": "code",
   "execution_count": 172,
   "id": "58450d97",
   "metadata": {},
   "outputs": [
    {
     "name": "stdout",
     "output_type": "stream",
     "text": [
      "{'I have no financial safety net (savings, assets, family resources)': 13287, 'None of the above': 1843, 'I am vulnerable to a medical emergency': 7952, 'I am unsure when I will make any income again': 11687, 'I have unmanageable debt (financial obligations not paid in full each month like credit cards, personal loans, payday loans or short-term debt, student loan debt, housing debt, automobile loan, other)': 11623}\n"
     ]
    }
   ],
   "source": [
    "# Define the gender categories\n",
    "categories = ['I have no financial safety net (savings, assets, family resources)','None of the above', 'I am vulnerable to a medical emergency',\n",
    "       'I am unsure when I will make any income again',\n",
    "       'I have unmanageable debt (financial obligations not paid in full each month like credit cards, personal loans, payday loans or short-term debt, student loan debt, housing debt, automobile loan, other)']\n",
    "\n",
    "# Initialize a dictionary to hold the counts for each category\n",
    "category_counts = {category: 0 for category in categories}\n",
    "\n",
    "# List of gender columns\n",
    "financialsafetynet_columns = ['g29_financialsafetynet1','g29_financialsafetynet2','g29_financialsafetynet3','g29_financialsafetynet4'] \n",
    "\n",
    "# Iterate through the DataFrame rows\n",
    "for index, row in data.iterrows():\n",
    "    seen_categories = set()  # Track seen categories for this row\n",
    "    for column in financialsafetynet_columns:\n",
    "        cell_value = row[column]\n",
    "        # Ensure cell_value is a string\n",
    "        if pd.notnull(cell_value):\n",
    "            cell_value = str(cell_value).strip().title()\n",
    "            for category in categories:\n",
    "                # Check if the cell contains the category, considering only unseen categories\n",
    "                if category.title() == cell_value and category not in seen_categories:\n",
    "                    category_counts[category] += 1\n",
    "                    seen_categories.add(category)  # Mark the category as seen\n",
    "\n",
    "print(category_counts)"
   ]
  },
  {
   "cell_type": "code",
   "execution_count": 179,
   "id": "856c997e",
   "metadata": {},
   "outputs": [
    {
     "name": "stdout",
     "output_type": "stream",
     "text": [
      "{'No financial safety net': 1500, 'None of the above': 132, 'Vulnerable to a medical emergency': 977, 'Unsure when I will make any income again': 1335, 'Unmanageable debt': 1314}\n"
     ]
    }
   ],
   "source": [
    "category_counts = {category: 0 for category in categories}\n",
    "\n",
    "# List of columns containing financial safety net information\n",
    "financialsafetynet_columns = ['g29_financialsafetynet1', 'g29_financialsafetynet2', 'g29_financialsafetynet3', 'g29_financialsafetynet4']\n",
    "\n",
    "# Iterate through categories and columns\n",
    "for category in categories:\n",
    "    for column in financialsafetynet_columns:\n",
    "        # Count occurrences of category in Enrolled group\n",
    "        category_counts[category] += data[data['g_enrollmentstatus'] == 'Enrolled'][column].str.contains(category, case=False, na=False).sum()\n",
    "\n",
    "print(category_counts)\n"
   ]
  },
  {
   "cell_type": "code",
   "execution_count": 181,
   "id": "f6a60687",
   "metadata": {},
   "outputs": [
    {
     "name": "stdout",
     "output_type": "stream",
     "text": [
      "{'No financial safety net': 11787, 'None of the above': 1711, 'Vulnerable to a medical emergency': 6975, 'Unsure when I will make any income again': 10352, 'Unmanageable debt': 10309}\n"
     ]
    }
   ],
   "source": [
    "category_counts = {category: 0 for category in categories}\n",
    "\n",
    "# List of columns containing financial safety net information\n",
    "financialsafetynet_columns = ['g29_financialsafetynet1', 'g29_financialsafetynet2', 'g29_financialsafetynet3', 'g29_financialsafetynet4']\n",
    "\n",
    "# Iterate through categories and columns\n",
    "for category in categories:\n",
    "    for column in financialsafetynet_columns:\n",
    "        # Count occurrences of category in Enrolled group\n",
    "        category_counts[category] += data[data['g_enrollmentstatus'] != 'Enrolled'][column].str.contains(category, case=False, na=False).sum()\n",
    "\n",
    "print(category_counts)\n"
   ]
  },
  {
   "cell_type": "markdown",
   "id": "8de8c284",
   "metadata": {},
   "source": [
    "### Enrolled in Public Benefits?"
   ]
  },
  {
   "cell_type": "code",
   "execution_count": 182,
   "id": "4ba7a9c3",
   "metadata": {},
   "outputs": [
    {
     "data": {
      "text/plain": [
       "{'Yes': 783, 'No': 1617}"
      ]
     },
     "execution_count": 182,
     "metadata": {},
     "output_type": "execute_result"
    }
   ],
   "source": [
    "enrolled = 'g32_enrolled'  # Remove the square brackets as they are not needed\n",
    "\n",
    "categories = [\"Yes\", \"No\"]\n",
    "\n",
    "# Initialize a dictionary to hold the counts for each category\n",
    "category_counts = {category: 0 for category in categories}\n",
    "\n",
    "# Iterate through the dataset and count occurrences of each category\n",
    "for category in categories:\n",
    "    category_counts[category] = data[data['g_enrollmentstatus'] == 'Enrolled'][enrolled].str.contains(category, case=False, na=False).sum()\n",
    "\n",
    "category_counts"
   ]
  },
  {
   "cell_type": "code",
   "execution_count": 183,
   "id": "c5dbf123",
   "metadata": {},
   "outputs": [
    {
     "data": {
      "text/plain": [
       "{'Yes': 5729, 'No': 13792}"
      ]
     },
     "execution_count": 183,
     "metadata": {},
     "output_type": "execute_result"
    }
   ],
   "source": [
    "enrolled = 'g32_enrolled'  # Remove the square brackets as they are not needed\n",
    "\n",
    "categories = [\"Yes\", \"No\"]\n",
    "\n",
    "# Initialize a dictionary to hold the counts for each category\n",
    "category_counts = {category: 0 for category in categories}\n",
    "\n",
    "# Iterate through the dataset and count occurrences of each category\n",
    "for category in categories:\n",
    "    category_counts[category] = data[data['g_enrollmentstatus'] != 'Enrolled'][enrolled].str.contains(category, case=False, na=False).sum()\n",
    "\n",
    "category_counts"
   ]
  },
  {
   "cell_type": "markdown",
   "id": "c5f491b8",
   "metadata": {},
   "source": [
    "### If yes, what are they?"
   ]
  },
  {
   "cell_type": "code",
   "execution_count": 188,
   "id": "0fc0b114",
   "metadata": {},
   "outputs": [
    {
     "name": "stdout",
     "output_type": "stream",
     "text": [
      "{'Medicaid for Adults and Child Health Plus': 4141, 'Supplemental Nutrition Assistance Program (SNAP)': 3091, 'Supplemental Security Income (SSI)': 304, 'Child Tax Credit (CTC)': 422, 'Health Insurance Marketplace Subsidies': 686, 'Head Start/Early Head Start': 23, 'Childcare Subsidy (CCDF)': 17, 'Other (please describe)': 859, 'Social Security Disability Insurance (SSDI)': 330, 'Section 8 Housing Voucher': 293, 'Temporary Cash Assistance (TANF)': 426, 'Women, Infants, and Children Nutrition Program (WIC)': 121, 'Earned Income Tax Credit (EITC)': 427, 'Federal Child and Dependent Care Tax Credit (CDCTC)': 103}\n"
     ]
    }
   ],
   "source": [
    "# Define the gender categories\n",
    "categories = [\"Medicaid for Adults and Child Health Plus\",\n",
    "    \"Supplemental Nutrition Assistance Program (SNAP)\",\n",
    "    \"Supplemental Security Income (SSI)\",\n",
    "    \"Child Tax Credit (CTC)\",\n",
    "    \"Health Insurance Marketplace Subsidies\",\n",
    "    \"Head Start/Early Head Start\",\n",
    "    \"Childcare Subsidy (CCDF)\",\n",
    "    \"Other (please describe)\",\n",
    "    \"Social Security Disability Insurance (SSDI)\",\n",
    "    \"Section 8 Housing Voucher\",\n",
    "    \"Temporary Cash Assistance (TANF)\",\n",
    "    \"Women, Infants, and Children Nutrition Program (WIC)\",\n",
    "    \"Earned Income Tax Credit (EITC)\",\n",
    "    \"Federal Child and Dependent Care Tax Credit (CDCTC)\"]\n",
    "\n",
    "# Initialize a dictionary to hold the counts for each category\n",
    "category_counts = {category: 0 for category in categories}\n",
    "\n",
    "# List of gender columns\n",
    "enrolled_columns = ['g32b_enrolled_name1','g32b_enrolled_name2','g32b_enrolled_name3','g32b_enrolled_name4','g32b_enrolled_name5','g32b_enrolled_name6','g32b_enrolled_name7','g32b_enrolled_name8','g32b_enrolled_name9'] \n",
    "\n",
    "# Iterate through the DataFrame rows\n",
    "for index, row in data.iterrows():\n",
    "    seen_categories = set()  # Track seen categories for this row\n",
    "    for column in enrolled_columns:\n",
    "        cell_value = row[column]\n",
    "        # Ensure cell_value is a string\n",
    "        if pd.notnull(cell_value):\n",
    "            cell_value = str(cell_value).strip().title()\n",
    "            for category in categories:\n",
    "                # Check if the cell contains the category, considering only unseen categories\n",
    "                if category.title() == cell_value and category not in seen_categories:\n",
    "                    category_counts[category] += 1\n",
    "                    seen_categories.add(category)  # Mark the category as seen\n",
    "\n",
    "print(category_counts)"
   ]
  },
  {
   "cell_type": "markdown",
   "id": "40fe9d9c",
   "metadata": {},
   "source": [
    "### Financial Capacity"
   ]
  },
  {
   "cell_type": "code",
   "execution_count": 197,
   "id": "18906f8f",
   "metadata": {},
   "outputs": [
    {
     "data": {
      "text/plain": [
       "{'2 – I can afford only some of these items': 611,\n",
       " '3 – My financial capacity to afford these items fluctuates': 0,\n",
       " '1 – I cannot afford these items': 432,\n",
       " '4 – I can afford these items': 19,\n",
       " '5 – I have more than enough to afford materials': 2}"
      ]
     },
     "execution_count": 197,
     "metadata": {},
     "output_type": "execute_result"
    }
   ],
   "source": [
    "financialcapacity = 'p7_financialcapacity'  # Remove the square brackets as they are not needed\n",
    "\n",
    "categories = [\n",
    "    \"2 – I can afford only some of these items\",\n",
    "    \"3 – My financial capacity to afford these items fluctuates\",\n",
    "    \"1 – I cannot afford these items\",\n",
    "    \"4 – I can afford these items\",\n",
    "    \"5 – I have more than enough to afford materials\"]\n",
    "\n",
    "# Initialize a dictionary to hold the counts for each category\n",
    "category_counts = {category: 0 for category in categories}\n",
    "\n",
    "# Iterate through the dataset and count occurrences of each category\n",
    "for category in categories:\n",
    "    category_counts[category] = data[data['g_enrollmentstatus'] == 'Enrolled'][financialcapacity].str.contains(category, case=False, na=False).sum()\n",
    "\n",
    "category_counts"
   ]
  },
  {
   "cell_type": "code",
   "execution_count": 198,
   "id": "d1dc4787",
   "metadata": {},
   "outputs": [
    {
     "data": {
      "text/plain": [
       "{'2 – I can afford only some of these items': 5430,\n",
       " '3 – My financial capacity to afford these items fluctuates': 0,\n",
       " '1 – I cannot afford these items': 3693,\n",
       " '4 – I can afford these items': 234,\n",
       " '5 – I have more than enough to afford materials': 48}"
      ]
     },
     "execution_count": 198,
     "metadata": {},
     "output_type": "execute_result"
    }
   ],
   "source": [
    "financialcapacity = 'p7_financialcapacity'  # Remove the square brackets as they are not needed\n",
    "\n",
    "categories = [\n",
    "    \"2 – I can afford only some of these items\",\n",
    "    \"3 – My financial capacity to afford these items fluctuates\",\n",
    "    \"1 – I cannot afford these items\",\n",
    "    \"4 – I can afford these items\",\n",
    "    \"5 – I have more than enough to afford materials\"]\n",
    "\n",
    "# Initialize a dictionary to hold the counts for each category\n",
    "category_counts = {category: 0 for category in categories}\n",
    "\n",
    "# Iterate through the dataset and count occurrences of each category\n",
    "for category in categories:\n",
    "    category_counts[category] = data[data['g_enrollmentstatus'] != 'Enrolled'][financialcapacity].str.contains(category, case=False, na=False).sum()\n",
    "\n",
    "category_counts"
   ]
  },
  {
   "cell_type": "markdown",
   "id": "0b6290e9",
   "metadata": {},
   "source": [
    "### Financial Stability"
   ]
  },
  {
   "cell_type": "code",
   "execution_count": 201,
   "id": "a8ab539d",
   "metadata": {},
   "outputs": [
    {
     "data": {
      "text/plain": [
       "{'1 – extremely unstable': 329,\n",
       " '2 – unstable': 566,\n",
       " '3 – my financial stability fluctuates': 359,\n",
       " '4 – stable': 35,\n",
       " '5 – extremely stable': 1}"
      ]
     },
     "execution_count": 201,
     "metadata": {},
     "output_type": "execute_result"
    }
   ],
   "source": [
    "financialstability = 'p8_financialstability'  # Remove the square brackets as they are not needed\n",
    "\n",
    "categories = [\n",
    "    \"1 – extremely unstable\",\n",
    "    \"2 – unstable\",\n",
    "    \"3 – my financial stability fluctuates\",\n",
    "    \"4 – stable\",\n",
    "    \"5 – extremely stable\"]\n",
    "\n",
    "# Initialize a dictionary to hold the counts for each category\n",
    "category_counts = {category: 0 for category in categories}\n",
    "\n",
    "# Iterate through the dataset and count occurrences of each category\n",
    "for category in categories:\n",
    "    category_counts[category] = data[data['g_enrollmentstatus'] == 'Enrolled'][financialstability].str.contains(category, case=False, na=False).sum()\n",
    "\n",
    "category_counts\n"
   ]
  },
  {
   "cell_type": "code",
   "execution_count": 200,
   "id": "2fda0ec7",
   "metadata": {},
   "outputs": [
    {
     "data": {
      "text/plain": [
       "{'1 – extremely unstable': 2625,\n",
       " '2 – unstable': 4764,\n",
       " '3 – my financial stability fluctuates': 3749,\n",
       " '4 – stable': 490,\n",
       " '5 – extremely stable': 27}"
      ]
     },
     "execution_count": 200,
     "metadata": {},
     "output_type": "execute_result"
    }
   ],
   "source": [
    "financialstability = 'p8_financialstability'  # Remove the square brackets as they are not needed\n",
    "\n",
    "categories = [\n",
    "    \"1 – extremely unstable\",\n",
    "    \"2 – unstable\",\n",
    "    \"3 – my financial stability fluctuates\",\n",
    "    \"4 – stable\",\n",
    "    \"5 – extremely stable\"]\n",
    "\n",
    "# Initialize a dictionary to hold the counts for each category\n",
    "category_counts = {category: 0 for category in categories}\n",
    "\n",
    "# Iterate through the dataset and count occurrences of each category\n",
    "for category in categories:\n",
    "    category_counts[category] = data[data['g_enrollmentstatus'] != 'Enrolled'][financialstability].str.contains(category, case=False, na=False).sum()\n",
    "\n",
    "category_counts\n"
   ]
  },
  {
   "cell_type": "markdown",
   "id": "298ddbd9",
   "metadata": {},
   "source": [
    "### Earning Money"
   ]
  },
  {
   "cell_type": "code",
   "execution_count": 208,
   "id": "129b6b70",
   "metadata": {},
   "outputs": [],
   "source": [
    "replacements = {\n",
    "    \"fulltimejob\": \"I have a full-time job (more than 30 hours per week)\",\n",
    "    \"artpractice\": \"I earn 100% of my living through my art practice.\",\n",
    "    \"gigs_contracts_temp\": \"I have a series of gigs, contracts, and temporary jobs.\",\n",
    "    \"unemployed\": \"I am currently unemployed.\",\n",
    "    \"parttimejob\": \"I have one or more part-time jobs (less than 30 hours per week)\",\n",
    "    \"other_earn\": \"Other (please describe)\",\n",
    "    \"familypartnersupport\": \"I am primarily or entirely supported by family or by my spouse/partner.\"\n",
    "}\n",
    "\n",
    "for col in ['p10_earnmoney1', 'p10_earnmoney2', 'p10_earnmoney3', 'p10_earnmoney4']:\n",
    "    data[col] = data[col].replace(replacements)"
   ]
  },
  {
   "cell_type": "code",
   "execution_count": 210,
   "id": "8a1c3b3e",
   "metadata": {},
   "outputs": [
    {
     "data": {
      "text/plain": [
       "array([nan, 'I earn 100% of my living through my art practice.',\n",
       "       'I am currently unemployed.',\n",
       "       'I have one or more part-time jobs (less than 30 hours per week)',\n",
       "       'I have a full-time job (more than 30 hours per week)',\n",
       "       'Other (please describe)',\n",
       "       'I have a series of gigs, contracts, and temporary jobs.',\n",
       "       'I am primarily or entirely supported by family or by my spouse/partner.'],\n",
       "      dtype=object)"
      ]
     },
     "execution_count": 210,
     "metadata": {},
     "output_type": "execute_result"
    }
   ],
   "source": [
    "all_earnmoney = pd.concat([\n",
    "    data['p10_earnmoney1'],\n",
    "    data['p10_earnmoney2'],\n",
    "    data['p10_earnmoney3'],\n",
    "    data['p10_earnmoney4']\n",
    "], ignore_index=True)\n",
    "\n",
    "all_earnmoney.unique()"
   ]
  },
  {
   "cell_type": "code",
   "execution_count": 212,
   "id": "14bead5b",
   "metadata": {},
   "outputs": [
    {
     "name": "stdout",
     "output_type": "stream",
     "text": [
      "{'I have a series of gigs, contracts, and temporary jobs.': 12614, 'I have one or more part-time jobs (less than 30 hours per week)': 8826, 'I am currently unemployed.': 7645, 'I earn 100% of my living through my art practice.': 4940, 'I am primarily or entirely supported by family or by my spouse/partner.': 3052, 'Other (please describe)': 3565, 'I have a full-time job (more than 30 hours per week)': 2378}\n"
     ]
    }
   ],
   "source": [
    "### List of columns containing earning money information\n",
    "earnmoney = ['p10_earnmoney1', 'p10_earnmoney2', 'p10_earnmoney3', 'p10_earnmoney4']\n",
    "\n",
    "# Define the categories\n",
    "categories = [\n",
    "    'I have a series of gigs, contracts, and temporary jobs.',\n",
    "    'I have one or more part-time jobs (less than 30 hours per week)',\n",
    "    'I am currently unemployed.',\n",
    "    'I earn 100% of my living through my art practice.',\n",
    "    'I am primarily or entirely supported by family or by my spouse/partner.',\n",
    "    'Other (please describe)',\n",
    "    'I have a full-time job (more than 30 hours per week)'\n",
    "]\n",
    "\n",
    "# Iterate through the DataFrame rows\n",
    "for index, row in data.iterrows():\n",
    "    seen_categories = set()  # Track seen categories for this row\n",
    "    for column in earnmoney:\n",
    "        cell_value = row[column]\n",
    "        # Ensure cell_value is a string\n",
    "        if pd.notnull(cell_value):\n",
    "            cell_value = str(cell_value).strip().title()\n",
    "            for category in categories:\n",
    "                # Check if the cell contains the category, considering only unseen categories\n",
    "                if category.title() == cell_value and category not in seen_categories:\n",
    "                    category_counts[category] += 1\n",
    "                    seen_categories.add(category)  # Mark the category as seen\n",
    "\n",
    "print(category_counts)"
   ]
  },
  {
   "cell_type": "markdown",
   "id": "77f7725e",
   "metadata": {},
   "source": [
    "### Has Health Insurance?"
   ]
  },
  {
   "cell_type": "code",
   "execution_count": 217,
   "id": "4dddd54b",
   "metadata": {},
   "outputs": [
    {
     "data": {
      "text/plain": [
       "{'Yes': 1080, 'No': 200}"
      ]
     },
     "execution_count": 217,
     "metadata": {},
     "output_type": "execute_result"
    }
   ],
   "source": [
    "healthinsurance = 'p12_healthinsurance'  # Remove the square brackets as they are not needed\n",
    "\n",
    "categories = [\"Yes\", \"No\"]\n",
    "\n",
    "# Initialize a dictionary to hold the counts for each category\n",
    "category_counts = {category: 0 for category in categories}\n",
    "\n",
    "# Iterate through the dataset and count occurrences of each category\n",
    "for category in categories:\n",
    "    category_counts[category] = data[data['g_enrollmentstatus']=='Enrolled'][healthinsurance].str.contains(category, case=False, na=False).sum()\n",
    "\n",
    "category_counts"
   ]
  },
  {
   "cell_type": "code",
   "execution_count": 218,
   "id": "85fee051",
   "metadata": {},
   "outputs": [
    {
     "data": {
      "text/plain": [
       "{'Yes': 9487, 'No': 2061}"
      ]
     },
     "execution_count": 218,
     "metadata": {},
     "output_type": "execute_result"
    }
   ],
   "source": [
    "healthinsurance = 'p12_healthinsurance'  # Remove the square brackets as they are not needed\n",
    "\n",
    "categories = [\"Yes\", \"No\"]\n",
    "\n",
    "# Initialize a dictionary to hold the counts for each category\n",
    "category_counts = {category: 0 for category in categories}\n",
    "\n",
    "# Iterate through the dataset and count occurrences of each category\n",
    "for category in categories:\n",
    "    category_counts[category] = data[data['g_enrollmentstatus']!='Enrolled'][healthinsurance].str.contains(category, case=False, na=False).sum()\n",
    "\n",
    "category_counts"
   ]
  },
  {
   "cell_type": "markdown",
   "id": "269a9bda",
   "metadata": {},
   "source": [
    "### 400Emergency"
   ]
  },
  {
   "cell_type": "code",
   "execution_count": 219,
   "id": "6c388616",
   "metadata": {},
   "outputs": [
    {
     "data": {
      "text/plain": [
       "{'Yes': 431, 'No': 843}"
      ]
     },
     "execution_count": 219,
     "metadata": {},
     "output_type": "execute_result"
    }
   ],
   "source": [
    "_400emergency = 'p13_400emergency'  # Remove the square brackets as they are not needed\n",
    "\n",
    "categories = [\"Yes\", \"No\"]\n",
    "\n",
    "# Initialize a dictionary to hold the counts for each category\n",
    "category_counts = {category: 0 for category in categories}\n",
    "\n",
    "# Iterate through the dataset and count occurrences of each category\n",
    "for category in categories:\n",
    "    category_counts[category] = data[data['g_enrollmentstatus']=='Enrolled'][_400emergency].str.contains(category, case=False, na=False).sum()\n",
    "\n",
    "category_counts"
   ]
  },
  {
   "cell_type": "code",
   "execution_count": 220,
   "id": "d350316f",
   "metadata": {},
   "outputs": [
    {
     "data": {
      "text/plain": [
       "{'Yes': 4056, 'No': 7443}"
      ]
     },
     "execution_count": 220,
     "metadata": {},
     "output_type": "execute_result"
    }
   ],
   "source": [
    "_400emergency = 'p13_400emergency'  # Remove the square brackets as they are not needed\n",
    "\n",
    "categories = [\"Yes\", \"No\"]\n",
    "\n",
    "# Initialize a dictionary to hold the counts for each category\n",
    "category_counts = {category: 0 for category in categories}\n",
    "\n",
    "# Iterate through the dataset and count occurrences of each category\n",
    "for category in categories:\n",
    "    category_counts[category] = data[data['g_enrollmentstatus']!='Enrolled'][_400emergency].str.contains(category, case=False, na=False).sum()\n",
    "\n",
    "category_counts"
   ]
  },
  {
   "cell_type": "markdown",
   "id": "25d2b1d3",
   "metadata": {},
   "source": [
    "### Carrying Debt?\n"
   ]
  },
  {
   "cell_type": "code",
   "execution_count": 240,
   "id": "69cf5036",
   "metadata": {},
   "outputs": [
    {
     "data": {
      "text/plain": [
       "{'Yes': 1011, 'No': 277}"
      ]
     },
     "execution_count": 240,
     "metadata": {},
     "output_type": "execute_result"
    }
   ],
   "source": [
    "carryingdebt = 'p14_carryingdebt'  # Remove the square brackets as they are not needed\n",
    "\n",
    "categories = [\"Yes\", \"No\"]\n",
    "\n",
    "# Initialize a dictionary to hold the counts for each category\n",
    "category_counts = {category: 0 for category in categories}\n",
    "\n",
    "# Iterate through the dataset and count occurrences of each category\n",
    "for category in categories:\n",
    "    category_counts[category] = data[data['g_enrollmentstatus']=='Enrolled'][carryingdebt].str.contains(category, case=False, na=False).sum()\n",
    "\n",
    "category_counts"
   ]
  },
  {
   "cell_type": "code",
   "execution_count": 241,
   "id": "636559d8",
   "metadata": {},
   "outputs": [
    {
     "data": {
      "text/plain": [
       "{'Yes': 8770, 'No': 2833}"
      ]
     },
     "execution_count": 241,
     "metadata": {},
     "output_type": "execute_result"
    }
   ],
   "source": [
    "carryingdebt = 'p14_carryingdebt'  # Remove the square brackets as they are not needed\n",
    "\n",
    "categories = [\"Yes\", \"No\"]\n",
    "\n",
    "# Initialize a dictionary to hold the counts for each category\n",
    "category_counts = {category: 0 for category in categories}\n",
    "\n",
    "# Iterate through the dataset and count occurrences of each category\n",
    "for category in categories:\n",
    "    category_counts[category] = data[data['g_enrollmentstatus']!='Enrolled'][carryingdebt].str.contains(category, case=False, na=False).sum()\n",
    "\n",
    "category_counts"
   ]
  },
  {
   "cell_type": "markdown",
   "id": "52a99378",
   "metadata": {},
   "source": [
    "### Can Manage Debt?"
   ]
  },
  {
   "cell_type": "code",
   "execution_count": 223,
   "id": "f9678582",
   "metadata": {},
   "outputs": [
    {
     "data": {
      "text/plain": [
       "{'Manageable': 987, 'Unmanageable': 661}"
      ]
     },
     "execution_count": 223,
     "metadata": {},
     "output_type": "execute_result"
    }
   ],
   "source": [
    "debtmanageable = 'p14b_debtmanageable'  # Remove the square brackets as they are not needed\n",
    "\n",
    "categories = [\"Manageable\", \"Unmanageable\"]\n",
    "\n",
    "# Initialize a dictionary to hold the counts for each category\n",
    "category_counts = {category: 0 for category in categories}\n",
    "\n",
    "# Iterate through the dataset and count occurrences of each category\n",
    "for category in categories:\n",
    "    category_counts[category] = data[data['g_enrollmentstatus']=='Enrolled'][debtmanageable].str.contains(category, case=False, na=False).sum()\n",
    "\n",
    "category_counts"
   ]
  },
  {
   "cell_type": "code",
   "execution_count": 224,
   "id": "185cd72f",
   "metadata": {},
   "outputs": [
    {
     "data": {
      "text/plain": [
       "{'Manageable': 8557, 'Unmanageable': 5391}"
      ]
     },
     "execution_count": 224,
     "metadata": {},
     "output_type": "execute_result"
    }
   ],
   "source": [
    "debtmanageable = 'p14b_debtmanageable'  # Remove the square brackets as they are not needed\n",
    "\n",
    "categories = [\"Manageable\", \"Unmanageable\"]\n",
    "\n",
    "# Initialize a dictionary to hold the counts for each category\n",
    "category_counts = {category: 0 for category in categories}\n",
    "\n",
    "# Iterate through the dataset and count occurrences of each category\n",
    "for category in categories:\n",
    "    category_counts[category] = data[data['g_enrollmentstatus']!='Enrolled'][debtmanageable].str.contains(category, case=False, na=False).sum()\n",
    "\n",
    "category_counts"
   ]
  },
  {
   "cell_type": "markdown",
   "id": "38beaf3f",
   "metadata": {},
   "source": [
    "### Physical Health"
   ]
  },
  {
   "cell_type": "code",
   "execution_count": 225,
   "id": "8153053a",
   "metadata": {},
   "outputs": [
    {
     "data": {
      "text/plain": [
       "{'1 – Strongly disagree': 47.0,\n",
       " '4 – Agree': 582.0,\n",
       " '3 – Neither agree nor disagree / Not sure': 290.0,\n",
       " '5 – Strongly agree': 204.0,\n",
       " '2 – Disagree': 167.0}"
      ]
     },
     "execution_count": 225,
     "metadata": {},
     "output_type": "execute_result"
    }
   ],
   "source": [
    "physicalhealth = 'p15_physicalhealth'\n",
    "\n",
    "# Define categories as strings\n",
    "categories = [\n",
    "    '1 – Strongly disagree',\n",
    "    '4 – Agree',\n",
    "    '3 – Neither agree nor disagree / Not sure',\n",
    "    '5 – Strongly agree',\n",
    "    '2 – Disagree']\n",
    "\n",
    "# Initialize a dictionary to hold the counts for each category\n",
    "category_counts = {category: 0 for category in categories}\n",
    "\n",
    "# Iterate through the dataset and count occurrences of each category\n",
    "for category in categories:\n",
    "    category_counts[category] = data[data['g_enrollmentstatus'] == 'Enrolled'][physicalhealth].str.count(category).sum()\n",
    "\n",
    "category_counts"
   ]
  },
  {
   "cell_type": "code",
   "execution_count": 226,
   "id": "a15c6560",
   "metadata": {},
   "outputs": [
    {
     "data": {
      "text/plain": [
       "{'1 – Strongly disagree': 308.0,\n",
       " '4 – Agree': 5499.0,\n",
       " '3 – Neither agree nor disagree / Not sure': 2514.0,\n",
       " '5 – Strongly agree': 2084.0,\n",
       " '2 – Disagree': 1246.0}"
      ]
     },
     "execution_count": 226,
     "metadata": {},
     "output_type": "execute_result"
    }
   ],
   "source": [
    "physicalhealth = 'p15_physicalhealth'\n",
    "\n",
    "# Define categories as strings\n",
    "categories = [\n",
    "    '1 – Strongly disagree',\n",
    "    '4 – Agree',\n",
    "    '3 – Neither agree nor disagree / Not sure',\n",
    "    '5 – Strongly agree',\n",
    "    '2 – Disagree']\n",
    "\n",
    "# Initialize a dictionary to hold the counts for each category\n",
    "category_counts = {category: 0 for category in categories}\n",
    "\n",
    "# Iterate through the dataset and count occurrences of each category\n",
    "for category in categories:\n",
    "    category_counts[category] = data[data['g_enrollmentstatus'] != 'Enrolled'][physicalhealth].str.count(category).sum()\n",
    "\n",
    "category_counts"
   ]
  },
  {
   "cell_type": "markdown",
   "id": "e92f0e24",
   "metadata": {},
   "source": [
    "### Mental Health"
   ]
  },
  {
   "cell_type": "code",
   "execution_count": 242,
   "id": "72584d3b",
   "metadata": {},
   "outputs": [
    {
     "data": {
      "text/plain": [
       "{'1 – Strongly disagree': 96.0,\n",
       " '4 – Agree': 381.0,\n",
       " '3 – Neither agree nor disagree / Not sure': 383.0,\n",
       " '5 – Strongly agree': 118.0,\n",
       " '2 – Disagree': 306.0}"
      ]
     },
     "execution_count": 242,
     "metadata": {},
     "output_type": "execute_result"
    }
   ],
   "source": [
    "mentalhealth = 'p16_mentalhealth'\n",
    "\n",
    "# Define categories as strings\n",
    "categories = [\n",
    "    '1 – Strongly disagree',\n",
    "    '4 – Agree',\n",
    "    '3 – Neither agree nor disagree / Not sure',\n",
    "    '5 – Strongly agree',\n",
    "    '2 – Disagree']\n",
    "\n",
    "# Initialize a dictionary to hold the counts for each category\n",
    "category_counts = {category: 0 for category in categories}\n",
    "\n",
    "# Iterate through the dataset and count occurrences of each category\n",
    "for category in categories:\n",
    "    category_counts[category] = data[data['g_enrollmentstatus'] == 'Enrolled'][mentalhealth].str.count(category).sum()\n",
    "\n",
    "category_counts"
   ]
  },
  {
   "cell_type": "code",
   "execution_count": 227,
   "id": "404043c7",
   "metadata": {},
   "outputs": [
    {
     "data": {
      "text/plain": [
       "{'1 – Strongly disagree': 671.0,\n",
       " '4 – Agree': 3806.0,\n",
       " '3 – Neither agree nor disagree / Not sure': 3612.0,\n",
       " '5 – Strongly agree': 1192.0,\n",
       " '2 – Disagree': 2348.0}"
      ]
     },
     "execution_count": 227,
     "metadata": {},
     "output_type": "execute_result"
    }
   ],
   "source": [
    "mentalhealth = 'p16_mentalhealth'\n",
    "\n",
    "# Define categories as strings\n",
    "categories = [\n",
    "    '1 – Strongly disagree',\n",
    "    '4 – Agree',\n",
    "    '3 – Neither agree nor disagree / Not sure',\n",
    "    '5 – Strongly agree',\n",
    "    '2 – Disagree']\n",
    "\n",
    "# Initialize a dictionary to hold the counts for each category\n",
    "category_counts = {category: 0 for category in categories}\n",
    "\n",
    "# Iterate through the dataset and count occurrences of each category\n",
    "for category in categories:\n",
    "    category_counts[category] = data[data['g_enrollmentstatus'] != 'Enrolled'][mentalhealth].str.count(category).sum()\n",
    "\n",
    "category_counts"
   ]
  },
  {
   "cell_type": "markdown",
   "id": "d0540283",
   "metadata": {},
   "source": [
    "### Feed Themselves"
   ]
  },
  {
   "cell_type": "code",
   "execution_count": 228,
   "id": "2f1bc8b6",
   "metadata": {},
   "outputs": [
    {
     "data": {
      "text/plain": [
       "{'1 – Strongly disagree': 30.0,\n",
       " '4 – Agree': 680.0,\n",
       " '3 – Neither agree nor disagree / Not sure': 320.0,\n",
       " '5 – Strongly agree': 122.0,\n",
       " '2 – Disagree': 128.0}"
      ]
     },
     "execution_count": 228,
     "metadata": {},
     "output_type": "execute_result"
    }
   ],
   "source": [
    "feedmyself = 'p18_feedmyself'\n",
    "\n",
    "# Define categories as strings\n",
    "categories = [\n",
    "    '1 – Strongly disagree',\n",
    "    '4 – Agree',\n",
    "    '3 – Neither agree nor disagree / Not sure',\n",
    "    '5 – Strongly agree',\n",
    "    '2 – Disagree']\n",
    "\n",
    "# Initialize a dictionary to hold the counts for each category\n",
    "category_counts = {category: 0 for category in categories}\n",
    "\n",
    "# Iterate through the dataset and count occurrences of each category\n",
    "for category in categories:\n",
    "    category_counts[category] = data[data['g_enrollmentstatus']=='Enrolled'][feedmyself].str.count(category).sum()\n",
    "\n",
    "category_counts"
   ]
  },
  {
   "cell_type": "code",
   "execution_count": 229,
   "id": "e567804b",
   "metadata": {},
   "outputs": [
    {
     "data": {
      "text/plain": [
       "{'1 – Strongly disagree': 292.0,\n",
       " '4 – Agree': 6175.0,\n",
       " '3 – Neither agree nor disagree / Not sure': 2783.0,\n",
       " '5 – Strongly agree': 1168.0,\n",
       " '2 – Disagree': 1159.0}"
      ]
     },
     "execution_count": 229,
     "metadata": {},
     "output_type": "execute_result"
    }
   ],
   "source": [
    "feedmyself = 'p18_feedmyself'\n",
    "\n",
    "# Define categories as strings\n",
    "categories = [\n",
    "    '1 – Strongly disagree',\n",
    "    '4 – Agree',\n",
    "    '3 – Neither agree nor disagree / Not sure',\n",
    "    '5 – Strongly agree',\n",
    "    '2 – Disagree']\n",
    "\n",
    "# Initialize a dictionary to hold the counts for each category\n",
    "category_counts = {category: 0 for category in categories}\n",
    "\n",
    "# Iterate through the dataset and count occurrences of each category\n",
    "for category in categories:\n",
    "    category_counts[category] = data[data['g_enrollmentstatus']!='Enrolled'][feedmyself].str.count(category).sum()\n",
    "\n",
    "category_counts"
   ]
  },
  {
   "cell_type": "markdown",
   "id": "4905a4f6",
   "metadata": {},
   "source": [
    "### Optimistic"
   ]
  },
  {
   "cell_type": "code",
   "execution_count": 232,
   "id": "6f916c1c",
   "metadata": {},
   "outputs": [
    {
     "data": {
      "text/plain": [
       "{'1 – Strongly disagree': 59.0,\n",
       " '4 – Agree': 455.0,\n",
       " '3 – Neither agree nor disagree / Not sure': 336.0,\n",
       " '5 – Strongly agree': 297.0,\n",
       " '2 – Disagree': 132.0}"
      ]
     },
     "execution_count": 232,
     "metadata": {},
     "output_type": "execute_result"
    }
   ],
   "source": [
    "optimistic = 'p22_optimistic'\n",
    "\n",
    "# Define categories as strings\n",
    "categories = [\n",
    "    '1 – Strongly disagree',\n",
    "    '4 – Agree',\n",
    "    '3 – Neither agree nor disagree / Not sure',\n",
    "    '5 – Strongly agree',\n",
    "    '2 – Disagree']\n",
    "\n",
    "# Initialize a dictionary to hold the counts for each category\n",
    "category_counts = {category: 0 for category in categories}\n",
    "\n",
    "# Iterate through the dataset and count occurrences of each category\n",
    "for category in categories:\n",
    "    category_counts[category] = data[data['g_enrollmentstatus']=='Enrolled'][optimistic].str.count(category).sum()\n",
    "\n",
    "category_counts"
   ]
  },
  {
   "cell_type": "code",
   "execution_count": 233,
   "id": "8166739e",
   "metadata": {},
   "outputs": [
    {
     "data": {
      "text/plain": [
       "{'1 – Strongly disagree': 398.0,\n",
       " '4 – Agree': 4212.0,\n",
       " '3 – Neither agree nor disagree / Not sure': 2961.0,\n",
       " '5 – Strongly agree': 2928.0,\n",
       " '2 – Disagree': 1050.0}"
      ]
     },
     "execution_count": 233,
     "metadata": {},
     "output_type": "execute_result"
    }
   ],
   "source": [
    "optimistic = 'p22_optimistic'\n",
    "\n",
    "# Define categories as strings\n",
    "categories = [\n",
    "    '1 – Strongly disagree',\n",
    "    '4 – Agree',\n",
    "    '3 – Neither agree nor disagree / Not sure',\n",
    "    '5 – Strongly agree',\n",
    "    '2 – Disagree']\n",
    "\n",
    "# Initialize a dictionary to hold the counts for each category\n",
    "category_counts = {category: 0 for category in categories}\n",
    "\n",
    "# Iterate through the dataset and count occurrences of each category\n",
    "for category in categories:\n",
    "    category_counts[category] = data[data['g_enrollmentstatus']!='Enrolled'][optimistic].str.count(category).sum()\n",
    "\n",
    "category_counts"
   ]
  },
  {
   "cell_type": "markdown",
   "id": "8c090c2c",
   "metadata": {},
   "source": [
    "### Employment Impact"
   ]
  },
  {
   "cell_type": "code",
   "execution_count": 234,
   "id": "84e0866c",
   "metadata": {},
   "outputs": [
    {
     "data": {
      "text/plain": [
       "{'laidofforfired': 394,\n",
       " 'industryshutdown': 569,\n",
       " 'furloughed': 263,\n",
       " 'newfreelancework': 318,\n",
       " 'freelanceworkcanceled': 728,\n",
       " 'newjob': 199,\n",
       " 'other_empimpact': 137,\n",
       " 'empnotimpacted': 58,\n",
       " 'leftjob': 129}"
      ]
     },
     "execution_count": 234,
     "metadata": {},
     "output_type": "execute_result"
    }
   ],
   "source": [
    "employimpact = ['p30_employimpact1', 'p30_employimpact2', 'p30_employimpact3', 'p30_employimpact4', 'p30_employimpact5', 'p30_employimpact6', 'p30_employimpact7', 'p30_employimpact8']\n",
    "\n",
    "categories = [\n",
    "    'laidofforfired',\n",
    "    'industryshutdown',\n",
    "    'furloughed',\n",
    "    'newfreelancework',\n",
    "    'freelanceworkcanceled',\n",
    "    'newjob',\n",
    "    'other_empimpact',\n",
    "    'empnotimpacted',\n",
    "    'leftjob']\n",
    "\n",
    "# Initialize a dictionary to hold the counts for each category\n",
    "category_counts = {category: 0 for category in categories}\n",
    "\n",
    "# Iterate through the dataset and count occurrences of each category\n",
    "for category in categories:\n",
    "    for column in employimpact:\n",
    "        category_counts[category] += data[data['g_enrollmentstatus']=='Enrolled'][column].str.contains(category, case=False, na=False).sum()\n",
    "\n",
    "category_counts"
   ]
  },
  {
   "cell_type": "code",
   "execution_count": 235,
   "id": "2902f4af",
   "metadata": {},
   "outputs": [
    {
     "data": {
      "text/plain": [
       "{'laidofforfired': 3853,\n",
       " 'industryshutdown': 5088,\n",
       " 'furloughed': 2455,\n",
       " 'newfreelancework': 2847,\n",
       " 'freelanceworkcanceled': 6747,\n",
       " 'newjob': 1726,\n",
       " 'other_empimpact': 997,\n",
       " 'empnotimpacted': 480,\n",
       " 'leftjob': 947}"
      ]
     },
     "execution_count": 235,
     "metadata": {},
     "output_type": "execute_result"
    }
   ],
   "source": [
    "employimpact = ['p30_employimpact1', 'p30_employimpact2', 'p30_employimpact3', 'p30_employimpact4', 'p30_employimpact5', 'p30_employimpact6', 'p30_employimpact7', 'p30_employimpact8']\n",
    "\n",
    "categories = [\n",
    "    'laidofforfired',\n",
    "    'industryshutdown',\n",
    "    'furloughed',\n",
    "    'newfreelancework',\n",
    "    'freelanceworkcanceled',\n",
    "    'newjob',\n",
    "    'other_empimpact',\n",
    "    'empnotimpacted',\n",
    "    'leftjob']\n",
    "\n",
    "# Initialize a dictionary to hold the counts for each category\n",
    "category_counts = {category: 0 for category in categories}\n",
    "\n",
    "# Iterate through the dataset and count occurrences of each category\n",
    "for category in categories:\n",
    "    for column in employimpact:\n",
    "        category_counts[category] += data[data['g_enrollmentstatus']!='Enrolled'][column].str.contains(category, case=False, na=False).sum()\n",
    "\n",
    "category_counts"
   ]
  },
  {
   "cell_type": "markdown",
   "id": "f583b3bd",
   "metadata": {},
   "source": [
    "### Art Practice Impact"
   ]
  },
  {
   "cell_type": "code",
   "execution_count": 236,
   "id": "47499f0b",
   "metadata": {},
   "outputs": [
    {
     "data": {
      "text/plain": [
       "{'canceledtravelprevented': 414,\n",
       " 'newseriesofwork': 577,\n",
       " 'nolongercollab': 783,\n",
       " 'affordstudio': 384,\n",
       " 'workonline': 592,\n",
       " 'showscanceled': 696,\n",
       " 'lessmotivated': 540,\n",
       " 'addresscommunityneeds': 364,\n",
       " 'newcollab': 453,\n",
       " 'moremotivated': 495,\n",
       " 'artspractice_noimpact': 15,\n",
       " 'artpracticeimpact_oth': 95,\n",
       " 'newexhibitions': 197,\n",
       " 'studioclosed': 374}"
      ]
     },
     "execution_count": 236,
     "metadata": {},
     "output_type": "execute_result"
    }
   ],
   "source": [
    "artpracticeimpact = ['p31_artpracticeimpact1', 'p31_artpracticeimpact2', 'p31_artpracticeimpact3', 'p31_artpracticeimpact4', 'p31_artpracticeimpact5', 'p31_artpracticeimpact6', 'p31_artpracticeimpact7', 'p31_artpracticeimpact8', 'p31_artpracticeimpact9', 'p31_artpracticeimpact10', 'p31_artpracticeimpact11', 'p31_artpracticeimpact12', 'p31_artpracticeimpact13']\n",
    "\n",
    "categories = [\n",
    "    'canceledtravelprevented',\n",
    "    'newseriesofwork',\n",
    "    'nolongercollab',\n",
    "    'affordstudio',\n",
    "    'workonline',\n",
    "    'showscanceled',\n",
    "    'lessmotivated',\n",
    "    'addresscommunityneeds',\n",
    "    'newcollab',\n",
    "    'moremotivated',\n",
    "    'artspractice_noimpact',\n",
    "    'artpracticeimpact_oth',\n",
    "    'newexhibitions',\n",
    "    'studioclosed']\n",
    "\n",
    "# Initialize a dictionary to hold the counts for each category\n",
    "category_counts = {category: 0 for category in categories}\n",
    "\n",
    "# Iterate through the dataset and count occurrences of each category\n",
    "for category in categories:\n",
    "    for column in artpracticeimpact:\n",
    "        category_counts[category] += data[data['g_enrollmentstatus']=='Enrolled'][column].str.contains(category, case=False, na=False).sum()\n",
    "\n",
    "category_counts\n"
   ]
  },
  {
   "cell_type": "code",
   "execution_count": 237,
   "id": "b484c64d",
   "metadata": {},
   "outputs": [
    {
     "data": {
      "text/plain": [
       "{'canceledtravelprevented': 4030,\n",
       " 'newseriesofwork': 5421,\n",
       " 'nolongercollab': 7173,\n",
       " 'affordstudio': 3534,\n",
       " 'workonline': 5613,\n",
       " 'showscanceled': 6648,\n",
       " 'lessmotivated': 4735,\n",
       " 'addresscommunityneeds': 3441,\n",
       " 'newcollab': 4227,\n",
       " 'moremotivated': 4368,\n",
       " 'artspractice_noimpact': 187,\n",
       " 'artpracticeimpact_oth': 686,\n",
       " 'newexhibitions': 1869,\n",
       " 'studioclosed': 3515}"
      ]
     },
     "execution_count": 237,
     "metadata": {},
     "output_type": "execute_result"
    }
   ],
   "source": [
    "artpracticeimpact = ['p31_artpracticeimpact1', 'p31_artpracticeimpact2', 'p31_artpracticeimpact3', 'p31_artpracticeimpact4', 'p31_artpracticeimpact5', 'p31_artpracticeimpact6', 'p31_artpracticeimpact7', 'p31_artpracticeimpact8', 'p31_artpracticeimpact9', 'p31_artpracticeimpact10', 'p31_artpracticeimpact11', 'p31_artpracticeimpact12', 'p31_artpracticeimpact13']\n",
    "\n",
    "categories = [\n",
    "    'canceledtravelprevented',\n",
    "    'newseriesofwork',\n",
    "    'nolongercollab',\n",
    "    'affordstudio',\n",
    "    'workonline',\n",
    "    'showscanceled',\n",
    "    'lessmotivated',\n",
    "    'addresscommunityneeds',\n",
    "    'newcollab',\n",
    "    'moremotivated',\n",
    "    'artspractice_noimpact',\n",
    "    'artpracticeimpact_oth',\n",
    "    'newexhibitions',\n",
    "    'studioclosed']\n",
    "\n",
    "# Initialize a dictionary to hold the counts for each category\n",
    "category_counts = {category: 0 for category in categories}\n",
    "\n",
    "# Iterate through the dataset and count occurrences of each category\n",
    "for category in categories:\n",
    "    for column in artpracticeimpact:\n",
    "        category_counts[category] += data[data['g_enrollmentstatus']!='Enrolled'][column].str.contains(category, case=False, na=False).sum()\n",
    "\n",
    "category_counts"
   ]
  },
  {
   "cell_type": "markdown",
   "id": "76a0ae64",
   "metadata": {},
   "source": [
    "### Well Being Impact"
   ]
  },
  {
   "cell_type": "code",
   "execution_count": 238,
   "id": "28df571c",
   "metadata": {},
   "outputs": [
    {
     "data": {
      "text/plain": [
       "{'accumulateddebt': 606,\n",
       " 'anxiety': 1094,\n",
       " 'foodinsecurity': 379,\n",
       " 'becamecaregiver': 235,\n",
       " 'wellbeing_noimpact': 26,\n",
       " 'physicalhealthimprove': 180,\n",
       " 'mentalhealthimprove': 170,\n",
       " 'selfcareimprove': 284,\n",
       " 'loneliness': 892,\n",
       " 'gotsick': 537,\n",
       " 'housinginsecurity': 481,\n",
       " 'hadtomove': 438,\n",
       " 'wellbeingimpact_oth': 70}"
      ]
     },
     "execution_count": 238,
     "metadata": {},
     "output_type": "execute_result"
    }
   ],
   "source": [
    "wellbeingimpact = ['p32_wellbeingimpact1', 'p32_wellbeingimpact2', 'p32_wellbeingimpact3', 'p32_wellbeingimpact4', 'p32_wellbeingimpact5', 'p32_wellbeingimpact6', 'p32_wellbeingimpact7', 'p32_wellbeingimpact8', 'p32_wellbeingimpact9', 'p32_wellbeingimpact10', 'p32_wellbeingimpact11', 'p32_wellbeingimpact12']\n",
    "\n",
    "categories = [\n",
    "    'accumulateddebt',\n",
    "    'anxiety',\n",
    "    'foodinsecurity',\n",
    "    'becamecaregiver',\n",
    "    'wellbeing_noimpact',\n",
    "    'physicalhealthimprove',\n",
    "    'mentalhealthimprove',\n",
    "    'selfcareimprove',\n",
    "    'loneliness',\n",
    "    'gotsick',\n",
    "    'housinginsecurity',\n",
    "    'hadtomove',\n",
    "    'wellbeingimpact_oth']\n",
    "\n",
    "# Initialize a dictionary to \n",
    "\n",
    "# Initialize a dictionary to hold the counts for each category\n",
    "category_counts = {category: 0 for category in categories}\n",
    "\n",
    "# Iterate through the dataset and count occurrences of each category\n",
    "for category in categories:\n",
    "    for column in wellbeingimpact:\n",
    "        category_counts[category] += data[data['g_enrollmentstatus']=='Enrolled'][column].str.contains(category, case=False, na=False).sum()\n",
    "\n",
    "category_counts"
   ]
  },
  {
   "cell_type": "code",
   "execution_count": 239,
   "id": "43c9ef4c",
   "metadata": {},
   "outputs": [
    {
     "data": {
      "text/plain": [
       "{'accumulateddebt': 5206,\n",
       " 'anxiety': 9551,\n",
       " 'foodinsecurity': 3205,\n",
       " 'becamecaregiver': 1670,\n",
       " 'wellbeing_noimpact': 294,\n",
       " 'physicalhealthimprove': 1636,\n",
       " 'mentalhealthimprove': 1701,\n",
       " 'selfcareimprove': 2578,\n",
       " 'loneliness': 7767,\n",
       " 'gotsick': 4916,\n",
       " 'housinginsecurity': 4002,\n",
       " 'hadtomove': 3822,\n",
       " 'wellbeingimpact_oth': 553}"
      ]
     },
     "execution_count": 239,
     "metadata": {},
     "output_type": "execute_result"
    }
   ],
   "source": [
    "wellbeingimpact = ['p32_wellbeingimpact1', 'p32_wellbeingimpact2', 'p32_wellbeingimpact3', 'p32_wellbeingimpact4', 'p32_wellbeingimpact5', 'p32_wellbeingimpact6', 'p32_wellbeingimpact7', 'p32_wellbeingimpact8', 'p32_wellbeingimpact9', 'p32_wellbeingimpact10', 'p32_wellbeingimpact11', 'p32_wellbeingimpact12']\n",
    "\n",
    "categories = [\n",
    "    'accumulateddebt',\n",
    "    'anxiety',\n",
    "    'foodinsecurity',\n",
    "    'becamecaregiver',\n",
    "    'wellbeing_noimpact',\n",
    "    'physicalhealthimprove',\n",
    "    'mentalhealthimprove',\n",
    "    'selfcareimprove',\n",
    "    'loneliness',\n",
    "    'gotsick',\n",
    "    'housinginsecurity',\n",
    "    'hadtomove',\n",
    "    'wellbeingimpact_oth']\n",
    "\n",
    "# Initialize a dictionary to \n",
    "\n",
    "# Initialize a dictionary to hold the counts for each category\n",
    "category_counts = {category: 0 for category in categories}\n",
    "\n",
    "# Iterate through the dataset and count occurrences of each category\n",
    "for category in categories:\n",
    "    for column in wellbeingimpact:\n",
    "        category_counts[category] += data[data['g_enrollmentstatus']!='Enrolled'][column].str.contains(category, case=False, na=False).sum()\n",
    "\n",
    "category_counts"
   ]
  },
  {
   "cell_type": "code",
   "execution_count": 246,
   "id": "61dc2a88",
   "metadata": {},
   "outputs": [],
   "source": [
    "data.to_excel(\"CRNY_FinalDataset.xlsx\", index=False)"
   ]
  }
 ],
 "metadata": {
  "kernelspec": {
   "display_name": "Python 3 (ipykernel)",
   "language": "python",
   "name": "python3"
  },
  "language_info": {
   "codemirror_mode": {
    "name": "ipython",
    "version": 3
   },
   "file_extension": ".py",
   "mimetype": "text/x-python",
   "name": "python",
   "nbconvert_exporter": "python",
   "pygments_lexer": "ipython3",
   "version": "3.11.4"
  }
 },
 "nbformat": 4,
 "nbformat_minor": 5
}
